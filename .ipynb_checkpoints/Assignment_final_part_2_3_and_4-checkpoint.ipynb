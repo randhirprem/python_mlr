{
 "cells": [
  {
   "cell_type": "markdown",
   "id": "c0056167-5f05-4614-be60-bfefcb436c33",
   "metadata": {},
   "source": [
    "# Import the necessary libraries"
   ]
  },
  {
   "cell_type": "code",
   "execution_count": 175,
   "id": "2466f8e3-45b4-417f-83e6-563c6e633571",
   "metadata": {},
   "outputs": [],
   "source": [
    "import pandas as pd\n",
    "import numpy as np\n",
    "import matplotlib.pyplot as plt\n",
    "import seaborn as sns\n",
    "from sklearn.model_selection import train_test_split\n",
    "from sklearn.preprocessing import StandardScaler, PolynomialFeatures\n",
    "from sklearn.decomposition import PCA\n",
    "from sklearn.linear_model import LinearRegression\n",
    "from sklearn.metrics import mean_squared_error, r2_score\n",
    "import statsmodels.api as sm\n",
    "%matplotlib inline\n",
    "from statsmodels.stats.outliers_influence import variance_inflation_factor as vif\n",
    "from sklearn.model_selection import train_test_split\n",
    "from sklearn import metrics\n",
    "from sklearn import preprocessing\n",
    "import statsmodels.formula.api as smf\n",
    "from statsmodels.graphics.factorplots import interaction_plot\n",
    "from scipy.stats import skew\n",
    "from scipy.stats import kurtosis\n",
    "from sklearn.metrics import mean_squared_error\n"
   ]
  },
  {
   "cell_type": "markdown",
   "id": "1281cb2a-caa0-4cde-a3fb-04fda0093549",
   "metadata": {},
   "source": [
    "# Load the dataset"
   ]
  },
  {
   "cell_type": "markdown",
   "id": "9c097207-f5cc-4cb9-ac7c-2eb86da8e7f3",
   "metadata": {},
   "source": [
    "## Establish File Path"
   ]
  },
  {
   "cell_type": "code",
   "execution_count": 177,
   "id": "cdba250f-007c-4e02-8314-15e95b34ad7a",
   "metadata": {},
   "outputs": [],
   "source": [
    "# Establish the file path.\n",
    "file_path = 'MS9004_Assignment_2425s2.xlsx'"
   ]
  },
  {
   "cell_type": "markdown",
   "id": "95e58fd4-4247-45b6-8d1d-523122e8de6a",
   "metadata": {},
   "source": [
    "### Read the xls file."
   ]
  },
  {
   "cell_type": "code",
   "execution_count": 179,
   "id": "1922ffb5-2c47-4838-903d-53decae21652",
   "metadata": {},
   "outputs": [],
   "source": [
    "# Read the xls file.\n",
    "df = pd.read_excel(file_path)"
   ]
  },
  {
   "cell_type": "markdown",
   "id": "9b74c0ae-2226-4dac-be96-b2de29d19fc6",
   "metadata": {},
   "source": [
    "# 2. Fit Model"
   ]
  },
  {
   "cell_type": "markdown",
   "id": "e4787eaf-cfdb-4286-b58c-aecf378b929c",
   "metadata": {},
   "source": [
    "### Split the data set into training set and test set in a ratio of 75:25 (approximately).\n",
    "### Set random state using the last 4 digits of your SP admission number.\n",
    "### Fit the full additive MLR model on the training set."
   ]
  },
  {
   "cell_type": "markdown",
   "id": "a9c2b7ac-6204-4e2c-ad40-6f1cde2cf27b",
   "metadata": {},
   "source": [
    "### Split the data set based on my sp student number 8125291j (random state = 5291)"
   ]
  },
  {
   "cell_type": "code",
   "execution_count": 344,
   "id": "6f832e43-7820-4022-856d-f169c9796f9d",
   "metadata": {},
   "outputs": [],
   "source": [
    "# Splitting the dataset (75% training, 25% testing)\n",
    "train_df, test_df = train_test_split(df, test_size=0.25, random_state=5291)"
   ]
  },
  {
   "cell_type": "markdown",
   "id": "822948e0-a672-4de0-818f-dca3f44ca0ba",
   "metadata": {},
   "source": [
    "#### Display the tain_df shape & test_df shape"
   ]
  },
  {
   "cell_type": "code",
   "execution_count": 183,
   "id": "a18c4f17-98da-4ab9-9368-7caec0a3c10e",
   "metadata": {},
   "outputs": [
    {
     "name": "stdout",
     "output_type": "stream",
     "text": [
      "Training Set: (84, 11)\n",
      "Test Set: (29, 11)\n"
     ]
    }
   ],
   "source": [
    "# Display the sizes of each split\n",
    "print(f\"Training Set: {train_df.shape}\")\n",
    "print(f\"Test Set: {test_df.shape}\")"
   ]
  },
  {
   "cell_type": "markdown",
   "id": "a50d7683-cc6b-424c-968a-3100e2f3f346",
   "metadata": {},
   "source": [
    "### The involvement of qualitative predictors does not change much of the ways we evaluate models.\n",
    "\n",
    "### Mix of More Than One Qualitative Predictors\n",
    "### Fit a MLR model to predict Risk."
   ]
  },
  {
   "cell_type": "markdown",
   "id": "6062ba30-ccd4-4b9d-ab6b-3f4ad15efa59",
   "metadata": {},
   "source": [
    "## Fit the full MLR model "
   ]
  },
  {
   "cell_type": "code",
   "execution_count": 185,
   "id": "c06fdda5-da1f-4d94-9e19-592c3e294d0b",
   "metadata": {},
   "outputs": [
    {
     "name": "stdout",
     "output_type": "stream",
     "text": [
      "                            OLS Regression Results                            \n",
      "==============================================================================\n",
      "Dep. Variable:                   risk   R-squared:                       0.647\n",
      "Model:                            OLS   Adj. R-squared:                  0.587\n",
      "Method:                 Least Squares   F-statistic:                     10.85\n",
      "Date:                Fri, 07 Feb 2025   Prob (F-statistic):           7.55e-12\n",
      "Time:                        17:38:09   Log-Likelihood:                -99.652\n",
      "No. Observations:                  84   AIC:                             225.3\n",
      "Df Residuals:                      71   BIC:                             256.9\n",
      "Df Model:                          12                                         \n",
      "Covariance Type:            nonrobust                                         \n",
      "======================================================================================\n",
      "                         coef    std err          t      P>|t|      [0.025      0.975]\n",
      "--------------------------------------------------------------------------------------\n",
      "Intercept             -1.1424      1.258     -0.908      0.367      -3.651       1.366\n",
      "affiliation[T.yes]    -0.3257      0.391     -0.832      0.408      -1.106       0.454\n",
      "region[T.NE]          -0.2127      0.304     -0.699      0.487      -0.819       0.394\n",
      "region[T.S]            0.2592      0.273      0.949      0.346      -0.286       0.804\n",
      "region[T.W]            0.8981      0.334      2.692      0.009       0.233       1.563\n",
      "length                 0.2379      0.072      3.289      0.002       0.094       0.382\n",
      "age                    0.0041      0.023      0.182      0.856      -0.041       0.049\n",
      "cultures               0.0499      0.011      4.488      0.000       0.028       0.072\n",
      "xray                   0.0155      0.006      2.646      0.010       0.004       0.027\n",
      "bed                   -0.0038      0.004     -1.050      0.297      -0.011       0.003\n",
      "patient                0.0029      0.004      0.690      0.492      -0.006       0.011\n",
      "nurse                  0.0037      0.002      2.035      0.046    7.37e-05       0.007\n",
      "facilities             0.0122      0.013      0.971      0.335      -0.013       0.037\n",
      "==============================================================================\n",
      "Omnibus:                        2.082   Durbin-Watson:                   2.235\n",
      "Prob(Omnibus):                  0.353   Jarque-Bera (JB):                1.425\n",
      "Skew:                           0.004   Prob(JB):                        0.491\n",
      "Kurtosis:                       2.362   Cond. No.                     6.00e+03\n",
      "==============================================================================\n",
      "\n",
      "Notes:\n",
      "[1] Standard Errors assume that the covariance matrix of the errors is correctly specified.\n",
      "[2] The condition number is large,  6e+03. This might indicate that there are\n",
      "strong multicollinearity or other numerical problems.\n",
      "\n",
      "MSE = 0.7429874029059934\n"
     ]
    }
   ],
   "source": [
    "# Fit the full MLR model.\n",
    "# Type your code here:\n",
    "mlr = smf.ols('risk ~ length + age + cultures + xray + bed  + patient + nurse + facilities + affiliation + region', train_df).fit()\n",
    "print(mlr.summary())\n",
    "print('\\nMSE =', mlr.mse_resid)"
   ]
  },
  {
   "cell_type": "code",
   "execution_count": 255,
   "id": "9811c302-890c-4b56-b205-b3789a50c3ae",
   "metadata": {},
   "outputs": [
    {
     "data": {
      "text/plain": [
       "Intercept            -1.142417\n",
       "affiliation[T.yes]   -0.325664\n",
       "region[T.NE]         -0.212696\n",
       "region[T.S]           0.259220\n",
       "region[T.W]           0.898060\n",
       "length                0.237941\n",
       "age                   0.004118\n",
       "cultures              0.049866\n",
       "xray                  0.015507\n",
       "bed                  -0.003826\n",
       "patient               0.002918\n",
       "nurse                 0.003693\n",
       "facilities            0.012180\n",
       "dtype: float64"
      ]
     },
     "execution_count": 255,
     "metadata": {},
     "output_type": "execute_result"
    }
   ],
   "source": [
    "# Verify that the coefficients from ols output agree with beta_hat.\n",
    "# Type: mlr.params\n",
    "mlr.params"
   ]
  },
  {
   "cell_type": "markdown",
   "id": "0543ef54-cf59-4f57-90f3-3d44c0ae66af",
   "metadata": {},
   "source": [
    "# 3 Evaluate Model\n",
    "### After building a regression model, we need to check whether the model or residuals satisfy various assumptions made.\n",
    "### This process is called model diagnostics or residual analysis.\n",
    "\n",
    "### We will check the following assumptions:\n",
    "\n",
    "### Normality\n",
    "### Homoscedasticity (constant variance)\n",
    "### Independence (no autocorrelation)\n",
    "### No/little multicollinearity"
   ]
  },
  {
   "cell_type": "markdown",
   "id": "2680e535-ed8d-4561-bed0-90606460dc7a",
   "metadata": {},
   "source": [
    "#### Extract the residuals"
   ]
  },
  {
   "cell_type": "code",
   "execution_count": 189,
   "id": "1c3223b0-3c60-439d-811d-23a022478e8a",
   "metadata": {},
   "outputs": [
    {
     "name": "stdout",
     "output_type": "stream",
     "text": [
      "27     0.376581\n",
      "6      0.191513\n",
      "5      0.380562\n",
      "60     0.364073\n",
      "109    0.753640\n",
      "         ...   \n",
      "28    -0.493283\n",
      "30    -0.544353\n",
      "87    -0.161004\n",
      "46    -0.553623\n",
      "13    -0.141163\n",
      "Length: 84, dtype: float64\n"
     ]
    }
   ],
   "source": [
    "# Extract residuals.\n",
    "# Type your code here:\n",
    "res = mlr.resid\n",
    "print(res)"
   ]
  },
  {
   "cell_type": "markdown",
   "id": "ef28ca97-ce27-49dc-8471-a6c60b0f5cb8",
   "metadata": {},
   "source": [
    "### Check Assumption: Normality\n",
    "#### We can use visualizations or run statistical tests to check if residuals satisfy the normality assumption.\n",
    "\n",
    "##### Histogram of residual should be bell-shaped.\n",
    "##### QQ plot of residuals should be a diagonal straight line.\n",
    "##### Jarque-Bera test: we want to see \"large\" p-value so as not to reject normality. \n",
    "##### Ominibus test: we want to see \"large\" p-value so as not to reject normality. See references in statsmodel or the scipy.stats."
   ]
  },
  {
   "cell_type": "code",
   "execution_count": 248,
   "id": "1d7f56ac-7b72-465c-a8ed-d1c94979c6d0",
   "metadata": {},
   "outputs": [
    {
     "data": {
      "image/png": "[encoded data removed]",
      "text/plain": [
       "<Figure size 800x500 with 1 Axes>"
      ]
     },
     "metadata": {},
     "output_type": "display_data"
    }
   ],
   "source": [
    "# Plot histogram of residuals\n",
    "plt.figure(figsize=(8, 5))\n",
    "sns.histplot(res, bins=30, kde=True, color=\"blue\")\n",
    "\n",
    "# Labels and title\n",
    "plt.xlabel(\"Residuals\")\n",
    "plt.ylabel(\"Frequency\")\n",
    "plt.title(\"Histogram of Residuals\")\n",
    "\n",
    "# Show the plot\n",
    "plt.show()"
   ]
  },
  {
   "cell_type": "markdown",
   "id": "2edca900-b8a8-4e58-88df-9a6b2dfb40b2",
   "metadata": {},
   "source": [
    "### QQ plot"
   ]
  },
  {
   "cell_type": "code",
   "execution_count": 193,
   "id": "287e6126-f1dd-41b9-87a3-c73f7975c86d",
   "metadata": {},
   "outputs": [
    {
     "data": {
      "image/png": "[encoded data removed]",
      "text/plain": [
       "<Figure size 640x480 with 1 Axes>"
      ]
     },
     "metadata": {},
     "output_type": "display_data"
    }
   ],
   "source": [
    "# Create a Q-Q plot\n",
    "sm.qqplot(mlr.resid, line='45', fit=True)\n",
    "\n",
    "# Add labels & title\n",
    "plt.title(\"Q-Q Plot of Residuals\")\n",
    "plt.xlabel(\"Theoretical Quantiles\")\n",
    "plt.ylabel(\"Sample Quantiles\")\n",
    "\n",
    "# Show the plot\n",
    "plt.show()"
   ]
  },
  {
   "cell_type": "markdown",
   "id": "8907fd10-372b-4ccd-ad1d-72acf1a15bb4",
   "metadata": {},
   "source": [
    "### Jarque-Bera test"
   ]
  },
  {
   "cell_type": "code",
   "execution_count": 195,
   "id": "fc2d23e1-2503-4668-834c-432fbf20172a",
   "metadata": {},
   "outputs": [
    {
     "data": {
      "text/plain": [
       "(1.4245062841317742,\n",
       " 0.4905377002540259,\n",
       " 0.0038368462347042076,\n",
       " 2.3620792291278594)"
      ]
     },
     "execution_count": 195,
     "metadata": {},
     "output_type": "execute_result"
    }
   ],
   "source": [
    "# The function returns: JB test statistic, p-value, estimated skewness, estimated kurtosis\n",
    "sm.stats.jarque_bera(res)"
   ]
  },
  {
   "cell_type": "markdown",
   "id": "6d52a689-079b-45f9-b7fe-ec9144bc99c2",
   "metadata": {},
   "source": [
    "### Omnibust normality test"
   ]
  },
  {
   "cell_type": "code",
   "execution_count": 197,
   "id": "fb06ed47-d37f-4d40-8c34-4a057525dd23",
   "metadata": {},
   "outputs": [
    {
     "data": {
      "text/plain": [
       "NormaltestResult(statistic=2.0815318436544357, pvalue=0.3531840669511357)"
      ]
     },
     "execution_count": 197,
     "metadata": {},
     "output_type": "execute_result"
    }
   ],
   "source": [
    "# To perform the Omnibus normality test on residuals, type: sm.stats.omni_normtest(residname)\n",
    "sm.stats.omni_normtest(res)"
   ]
  },
  {
   "cell_type": "markdown",
   "id": "3dbc8f38-9831-41eb-81a9-6d850bb37820",
   "metadata": {},
   "source": [
    "### Check Assumption: Constant Variance (Homoscedasticity)\n",
    "#### We can use visualization or run statistical test to check if residuals satisfy the homoscedasticity assumption.\n",
    "\n",
    "#### Plot of residuals vs. fitted values should be \"bounded in a horizontal band\".\n",
    "#### Breusch–Pagan test: we want to see \"large\" p-value so as not to reject homoscedasticity. "
   ]
  },
  {
   "cell_type": "code",
   "execution_count": 199,
   "id": "66c6c053-ca95-44fb-b675-06dfc8304fae",
   "metadata": {},
   "outputs": [
    {
     "data": {
      "image/png": "[encoded data removed]",
      "text/plain": [
       "<Figure size 640x480 with 1 Axes>"
      ]
     },
     "metadata": {},
     "output_type": "display_data"
    }
   ],
   "source": [
    "# Residual plot\n",
    "sns.residplot(x=mlr.fittedvalues, y=res, lowess=True, line_kws={'color': 'red'})\n",
    "\n",
    "# Labels and title\n",
    "plt.xlabel(\"Fitted Values (Predicted Risk)\")\n",
    "plt.ylabel(\"Residuals\")\n",
    "plt.title(\"Residual Plot\")\n",
    "\n",
    "# Show the plot\n",
    "plt.show()"
   ]
  },
  {
   "cell_type": "markdown",
   "id": "73b6a3af-939a-492f-8bea-4b763970b488",
   "metadata": {},
   "source": [
    "### Perform the Breusch-Pagan test on residuals."
   ]
  },
  {
   "cell_type": "code",
   "execution_count": 201,
   "id": "1e773045-02a2-4c9e-979b-814b8403fedd",
   "metadata": {},
   "outputs": [
    {
     "data": {
      "text/plain": [
       "(17.54056858221391, 0.1303691395745407, 1.56157967696653, 0.1231660085328887)"
      ]
     },
     "execution_count": 201,
     "metadata": {},
     "output_type": "execute_result"
    }
   ],
   "source": [
    "# Perform the Breusch-Pagan test on residuals.\n",
    "sm.stats.het_breuschpagan(res, mlr.model.exog)"
   ]
  },
  {
   "cell_type": "markdown",
   "id": "690b69de-4e20-4b11-8dfa-125108550a49",
   "metadata": {},
   "source": [
    "### Check Assumption: Independence\n",
    "#### We can use visualization or run statistical test to check if residuals satisfy the independence assumption.\n",
    "#### Durbin-Watson test is used to detect autocorrelation in residuals. We want DW around 2."
   ]
  },
  {
   "cell_type": "code",
   "execution_count": 205,
   "id": "3f5aee9f-1046-4136-9ed0-f628e39fd57f",
   "metadata": {},
   "outputs": [
    {
     "data": {
      "text/plain": [
       "2.235345429323543"
      ]
     },
     "execution_count": 205,
     "metadata": {},
     "output_type": "execute_result"
    }
   ],
   "source": [
    "# Type: sm.stats.durbin_watson(residname)\n",
    "sm.stats.durbin_watson(res)"
   ]
  },
  {
   "cell_type": "markdown",
   "id": "8d828a96-cf05-43b4-8fff-695036267482",
   "metadata": {},
   "source": [
    "### Check Assumption: Multicollinearity\n",
    "#### We can check for multicollinearity in the model by:\n",
    "\n",
    "#### Visually inspect the correlation matrix for correlated predictors.\n",
    "#### Check the condition number. This is a matrix algebra method, to fully understand it requires knowledge in, including but not limited to, eigen analysis. As a rule of thumb, if the condition number is more than 30, the model may have multicolliearity problem. In Statsmodel, summary output will automatically highlight multicollinearity issue if the condition number is too high.\n",
    "#### Check the Variance Inflation Factor (VIF) values. As a rule of thumb, we interpret VIF for each predictor as follows:\n",
    "#### VIF\tInterpretation\n",
    "#### VIF = 1\tNo multicollinearity\n",
    "#### 1 < VIF < 5\tLittle multicollinearity\n",
    "#### 5 < VIF < 10\tModerate multicollinearity\n",
    "#### VIF > 10\tSevere multicollinearity"
   ]
  },
  {
   "cell_type": "code",
   "execution_count": 207,
   "id": "da4c3e6f-e8f0-4f4f-a5d1-a3fa78ee9fa0",
   "metadata": {},
   "outputs": [
    {
     "data": {
      "text/plain": [
       "6002.490090690884"
      ]
     },
     "execution_count": 207,
     "metadata": {},
     "output_type": "execute_result"
    }
   ],
   "source": [
    "# To extract condition number, type: modelname.condition_number\n",
    "mlr.condition_number"
   ]
  },
  {
   "cell_type": "code",
   "execution_count": 209,
   "id": "1f03acf9-2908-4087-bf15-bb9c188d8a76",
   "metadata": {},
   "outputs": [
    {
     "name": "stdout",
     "output_type": "stream",
     "text": [
      "Intercept 178.9280038819232\n",
      "affiliation[T.yes] 2.119014783944837\n",
      "region[T.NE] 2.0234824358087495\n",
      "region[T.S] 1.9077985264937107\n",
      "region[T.W] 1.5410726099435827\n",
      "length 2.545611715793667\n",
      "age 1.265624464430535\n",
      "cultures 1.6188095304883192\n",
      "xray 1.5639853916811752\n",
      "bed 47.0708848913553\n",
      "patient 43.4624110789282\n",
      "nurse 6.321661820417416\n",
      "facilities 3.3159629523983085\n"
     ]
    }
   ],
   "source": [
    "for i in range(13):\n",
    "    predictor = mlr.model.exog_names[i]\n",
    "    Vif = vif(mlr.model.exog,i)\n",
    "    print(predictor, Vif)"
   ]
  },
  {
   "cell_type": "markdown",
   "id": "a8d9fe37-b72d-4652-aa44-7347f93d9bb2",
   "metadata": {},
   "source": [
    "### Predict"
   ]
  },
  {
   "cell_type": "code",
   "execution_count": 229,
   "id": "f3bcf320-6455-4507-a94b-63949c5021c6",
   "metadata": {},
   "outputs": [],
   "source": [
    "# Make predictions on the test set\n",
    "test_df['predicted_risk'] = mlr.predict(test_df)"
   ]
  },
  {
   "cell_type": "code",
   "execution_count": 231,
   "id": "131a82ae-49a9-4b28-9385-b5462abd2435",
   "metadata": {},
   "outputs": [
    {
     "name": "stdout",
     "output_type": "stream",
     "text": [
      "52     4.979534\n",
      "34     4.094793\n",
      "31     4.749770\n",
      "92     2.568066\n",
      "19     4.875390\n",
      "110    4.506244\n",
      "10     6.668612\n",
      "75     3.949346\n",
      "25     4.479963\n",
      "2      3.159883\n",
      "90     3.582623\n",
      "47     3.768101\n",
      "56     3.354425\n",
      "9      4.314931\n",
      "54     2.579019\n",
      "66     4.183030\n",
      "18     3.453191\n",
      "73     5.221022\n",
      "44     3.708796\n",
      "96     3.600132\n",
      "88     4.291708\n",
      "22     4.320418\n",
      "57     4.948751\n",
      "112    4.357646\n",
      "63     3.962868\n",
      "8      4.608997\n",
      "51     3.759089\n",
      "39     2.418732\n",
      "61     4.806415\n",
      "Name: predicted_risk, dtype: float64\n"
     ]
    }
   ],
   "source": [
    "print(test_df['predicted_risk'])"
   ]
  },
  {
   "cell_type": "code",
   "execution_count": 233,
   "id": "e2f9258d-bc8c-4c4a-a3a5-92a76672229f",
   "metadata": {
    "scrolled": true
   },
   "outputs": [
    {
     "data": {
      "text/html": [
       "<div>\n",
       "<style scoped>\n",
       "    .dataframe tbody tr th:only-of-type {\n",
       "        vertical-align: middle;\n",
       "    }\n",
       "\n",
       "    .dataframe tbody tr th {\n",
       "        vertical-align: top;\n",
       "    }\n",
       "\n",
       "    .dataframe thead th {\n",
       "        text-align: right;\n",
       "    }\n",
       "</style>\n",
       "<table border=\"1\" class=\"dataframe\">\n",
       "  <thead>\n",
       "    <tr style=\"text-align: right;\">\n",
       "      <th></th>\n",
       "      <th>mean</th>\n",
       "      <th>mean_se</th>\n",
       "      <th>mean_ci_lower</th>\n",
       "      <th>mean_ci_upper</th>\n",
       "      <th>obs_ci_lower</th>\n",
       "      <th>obs_ci_upper</th>\n",
       "    </tr>\n",
       "  </thead>\n",
       "  <tbody>\n",
       "    <tr>\n",
       "      <th>0</th>\n",
       "      <td>4.979534</td>\n",
       "      <td>0.575216</td>\n",
       "      <td>3.832586</td>\n",
       "      <td>6.126482</td>\n",
       "      <td>2.913265</td>\n",
       "      <td>7.045802</td>\n",
       "    </tr>\n",
       "    <tr>\n",
       "      <th>1</th>\n",
       "      <td>4.094793</td>\n",
       "      <td>0.271001</td>\n",
       "      <td>3.554432</td>\n",
       "      <td>4.635154</td>\n",
       "      <td>2.293136</td>\n",
       "      <td>5.896450</td>\n",
       "    </tr>\n",
       "    <tr>\n",
       "      <th>2</th>\n",
       "      <td>4.749770</td>\n",
       "      <td>0.397765</td>\n",
       "      <td>3.956650</td>\n",
       "      <td>5.542890</td>\n",
       "      <td>2.856884</td>\n",
       "      <td>6.642656</td>\n",
       "    </tr>\n",
       "    <tr>\n",
       "      <th>3</th>\n",
       "      <td>2.568066</td>\n",
       "      <td>0.437178</td>\n",
       "      <td>1.696358</td>\n",
       "      <td>3.439773</td>\n",
       "      <td>0.640930</td>\n",
       "      <td>4.495201</td>\n",
       "    </tr>\n",
       "    <tr>\n",
       "      <th>4</th>\n",
       "      <td>4.875390</td>\n",
       "      <td>0.666258</td>\n",
       "      <td>3.546909</td>\n",
       "      <td>6.203871</td>\n",
       "      <td>2.703101</td>\n",
       "      <td>7.047679</td>\n",
       "    </tr>\n",
       "    <tr>\n",
       "      <th>5</th>\n",
       "      <td>4.506244</td>\n",
       "      <td>0.467957</td>\n",
       "      <td>3.573165</td>\n",
       "      <td>5.439323</td>\n",
       "      <td>2.550582</td>\n",
       "      <td>6.461906</td>\n",
       "    </tr>\n",
       "    <tr>\n",
       "      <th>6</th>\n",
       "      <td>6.668612</td>\n",
       "      <td>0.500955</td>\n",
       "      <td>5.669736</td>\n",
       "      <td>7.667487</td>\n",
       "      <td>4.680716</td>\n",
       "      <td>8.656507</td>\n",
       "    </tr>\n",
       "    <tr>\n",
       "      <th>7</th>\n",
       "      <td>3.949346</td>\n",
       "      <td>0.301394</td>\n",
       "      <td>3.348383</td>\n",
       "      <td>4.550308</td>\n",
       "      <td>2.128595</td>\n",
       "      <td>5.770096</td>\n",
       "    </tr>\n",
       "    <tr>\n",
       "      <th>8</th>\n",
       "      <td>4.479963</td>\n",
       "      <td>0.468089</td>\n",
       "      <td>3.546619</td>\n",
       "      <td>5.413306</td>\n",
       "      <td>2.524174</td>\n",
       "      <td>6.435751</td>\n",
       "    </tr>\n",
       "    <tr>\n",
       "      <th>9</th>\n",
       "      <td>3.159883</td>\n",
       "      <td>0.257973</td>\n",
       "      <td>2.645499</td>\n",
       "      <td>3.674267</td>\n",
       "      <td>1.365846</td>\n",
       "      <td>4.953920</td>\n",
       "    </tr>\n",
       "    <tr>\n",
       "      <th>10</th>\n",
       "      <td>3.582623</td>\n",
       "      <td>0.239456</td>\n",
       "      <td>3.105161</td>\n",
       "      <td>4.060086</td>\n",
       "      <td>1.798822</td>\n",
       "      <td>5.366425</td>\n",
       "    </tr>\n",
       "    <tr>\n",
       "      <th>11</th>\n",
       "      <td>3.768101</td>\n",
       "      <td>0.519211</td>\n",
       "      <td>2.732823</td>\n",
       "      <td>4.803379</td>\n",
       "      <td>1.761667</td>\n",
       "      <td>5.774535</td>\n",
       "    </tr>\n",
       "    <tr>\n",
       "      <th>12</th>\n",
       "      <td>3.354425</td>\n",
       "      <td>0.304973</td>\n",
       "      <td>2.746327</td>\n",
       "      <td>3.962524</td>\n",
       "      <td>1.531307</td>\n",
       "      <td>5.177544</td>\n",
       "    </tr>\n",
       "    <tr>\n",
       "      <th>13</th>\n",
       "      <td>4.314931</td>\n",
       "      <td>0.304984</td>\n",
       "      <td>3.706811</td>\n",
       "      <td>4.923052</td>\n",
       "      <td>2.491806</td>\n",
       "      <td>6.138057</td>\n",
       "    </tr>\n",
       "    <tr>\n",
       "      <th>14</th>\n",
       "      <td>2.579019</td>\n",
       "      <td>0.304219</td>\n",
       "      <td>1.972424</td>\n",
       "      <td>3.185614</td>\n",
       "      <td>0.756402</td>\n",
       "      <td>4.401637</td>\n",
       "    </tr>\n",
       "    <tr>\n",
       "      <th>15</th>\n",
       "      <td>4.183030</td>\n",
       "      <td>0.269016</td>\n",
       "      <td>3.646628</td>\n",
       "      <td>4.719432</td>\n",
       "      <td>2.382557</td>\n",
       "      <td>5.983503</td>\n",
       "    </tr>\n",
       "    <tr>\n",
       "      <th>16</th>\n",
       "      <td>3.453191</td>\n",
       "      <td>0.247967</td>\n",
       "      <td>2.958760</td>\n",
       "      <td>3.947622</td>\n",
       "      <td>1.664773</td>\n",
       "      <td>5.241609</td>\n",
       "    </tr>\n",
       "    <tr>\n",
       "      <th>17</th>\n",
       "      <td>5.221022</td>\n",
       "      <td>0.592207</td>\n",
       "      <td>4.040196</td>\n",
       "      <td>6.401849</td>\n",
       "      <td>3.135758</td>\n",
       "      <td>7.306287</td>\n",
       "    </tr>\n",
       "    <tr>\n",
       "      <th>18</th>\n",
       "      <td>3.708796</td>\n",
       "      <td>0.239822</td>\n",
       "      <td>3.230604</td>\n",
       "      <td>4.186988</td>\n",
       "      <td>1.924799</td>\n",
       "      <td>5.492793</td>\n",
       "    </tr>\n",
       "    <tr>\n",
       "      <th>19</th>\n",
       "      <td>3.600132</td>\n",
       "      <td>0.193908</td>\n",
       "      <td>3.213490</td>\n",
       "      <td>3.986773</td>\n",
       "      <td>1.838465</td>\n",
       "      <td>5.361798</td>\n",
       "    </tr>\n",
       "    <tr>\n",
       "      <th>20</th>\n",
       "      <td>4.291708</td>\n",
       "      <td>0.234978</td>\n",
       "      <td>3.823176</td>\n",
       "      <td>4.760240</td>\n",
       "      <td>2.510276</td>\n",
       "      <td>6.073140</td>\n",
       "    </tr>\n",
       "    <tr>\n",
       "      <th>21</th>\n",
       "      <td>4.320418</td>\n",
       "      <td>0.466160</td>\n",
       "      <td>3.390921</td>\n",
       "      <td>5.249915</td>\n",
       "      <td>2.366462</td>\n",
       "      <td>6.274373</td>\n",
       "    </tr>\n",
       "    <tr>\n",
       "      <th>22</th>\n",
       "      <td>4.948751</td>\n",
       "      <td>0.422087</td>\n",
       "      <td>4.107133</td>\n",
       "      <td>5.790369</td>\n",
       "      <td>3.035038</td>\n",
       "      <td>6.862464</td>\n",
       "    </tr>\n",
       "    <tr>\n",
       "      <th>23</th>\n",
       "      <td>4.357646</td>\n",
       "      <td>0.287282</td>\n",
       "      <td>3.784823</td>\n",
       "      <td>4.930470</td>\n",
       "      <td>2.545988</td>\n",
       "      <td>6.169304</td>\n",
       "    </tr>\n",
       "    <tr>\n",
       "      <th>24</th>\n",
       "      <td>3.962868</td>\n",
       "      <td>0.285251</td>\n",
       "      <td>3.394094</td>\n",
       "      <td>4.531641</td>\n",
       "      <td>2.152486</td>\n",
       "      <td>5.773249</td>\n",
       "    </tr>\n",
       "    <tr>\n",
       "      <th>25</th>\n",
       "      <td>4.608997</td>\n",
       "      <td>0.230231</td>\n",
       "      <td>4.149929</td>\n",
       "      <td>5.068065</td>\n",
       "      <td>2.830031</td>\n",
       "      <td>6.387963</td>\n",
       "    </tr>\n",
       "    <tr>\n",
       "      <th>26</th>\n",
       "      <td>3.759089</td>\n",
       "      <td>0.496042</td>\n",
       "      <td>2.770009</td>\n",
       "      <td>4.748169</td>\n",
       "      <td>1.776097</td>\n",
       "      <td>5.742080</td>\n",
       "    </tr>\n",
       "    <tr>\n",
       "      <th>27</th>\n",
       "      <td>2.418732</td>\n",
       "      <td>0.340171</td>\n",
       "      <td>1.740449</td>\n",
       "      <td>3.097014</td>\n",
       "      <td>0.571018</td>\n",
       "      <td>4.266445</td>\n",
       "    </tr>\n",
       "    <tr>\n",
       "      <th>28</th>\n",
       "      <td>4.806415</td>\n",
       "      <td>0.503924</td>\n",
       "      <td>3.801619</td>\n",
       "      <td>5.811211</td>\n",
       "      <td>2.815538</td>\n",
       "      <td>6.797292</td>\n",
       "    </tr>\n",
       "  </tbody>\n",
       "</table>\n",
       "</div>"
      ],
      "text/plain": [
       "        mean   mean_se  mean_ci_lower  mean_ci_upper  obs_ci_lower  \\\n",
       "0   4.979534  0.575216       3.832586       6.126482      2.913265   \n",
       "1   4.094793  0.271001       3.554432       4.635154      2.293136   \n",
       "2   4.749770  0.397765       3.956650       5.542890      2.856884   \n",
       "3   2.568066  0.437178       1.696358       3.439773      0.640930   \n",
       "4   4.875390  0.666258       3.546909       6.203871      2.703101   \n",
       "5   4.506244  0.467957       3.573165       5.439323      2.550582   \n",
       "6   6.668612  0.500955       5.669736       7.667487      4.680716   \n",
       "7   3.949346  0.301394       3.348383       4.550308      2.128595   \n",
       "8   4.479963  0.468089       3.546619       5.413306      2.524174   \n",
       "9   3.159883  0.257973       2.645499       3.674267      1.365846   \n",
       "10  3.582623  0.239456       3.105161       4.060086      1.798822   \n",
       "11  3.768101  0.519211       2.732823       4.803379      1.761667   \n",
       "12  3.354425  0.304973       2.746327       3.962524      1.531307   \n",
       "13  4.314931  0.304984       3.706811       4.923052      2.491806   \n",
       "14  2.579019  0.304219       1.972424       3.185614      0.756402   \n",
       "15  4.183030  0.269016       3.646628       4.719432      2.382557   \n",
       "16  3.453191  0.247967       2.958760       3.947622      1.664773   \n",
       "17  5.221022  0.592207       4.040196       6.401849      3.135758   \n",
       "18  3.708796  0.239822       3.230604       4.186988      1.924799   \n",
       "19  3.600132  0.193908       3.213490       3.986773      1.838465   \n",
       "20  4.291708  0.234978       3.823176       4.760240      2.510276   \n",
       "21  4.320418  0.466160       3.390921       5.249915      2.366462   \n",
       "22  4.948751  0.422087       4.107133       5.790369      3.035038   \n",
       "23  4.357646  0.287282       3.784823       4.930470      2.545988   \n",
       "24  3.962868  0.285251       3.394094       4.531641      2.152486   \n",
       "25  4.608997  0.230231       4.149929       5.068065      2.830031   \n",
       "26  3.759089  0.496042       2.770009       4.748169      1.776097   \n",
       "27  2.418732  0.340171       1.740449       3.097014      0.571018   \n",
       "28  4.806415  0.503924       3.801619       5.811211      2.815538   \n",
       "\n",
       "    obs_ci_upper  \n",
       "0       7.045802  \n",
       "1       5.896450  \n",
       "2       6.642656  \n",
       "3       4.495201  \n",
       "4       7.047679  \n",
       "5       6.461906  \n",
       "6       8.656507  \n",
       "7       5.770096  \n",
       "8       6.435751  \n",
       "9       4.953920  \n",
       "10      5.366425  \n",
       "11      5.774535  \n",
       "12      5.177544  \n",
       "13      6.138057  \n",
       "14      4.401637  \n",
       "15      5.983503  \n",
       "16      5.241609  \n",
       "17      7.306287  \n",
       "18      5.492793  \n",
       "19      5.361798  \n",
       "20      6.073140  \n",
       "21      6.274373  \n",
       "22      6.862464  \n",
       "23      6.169304  \n",
       "24      5.773249  \n",
       "25      6.387963  \n",
       "26      5.742080  \n",
       "27      4.266445  \n",
       "28      6.797292  "
      ]
     },
     "execution_count": 233,
     "metadata": {},
     "output_type": "execute_result"
    }
   ],
   "source": [
    "mlr.get_prediction(test_df).summary_frame()"
   ]
  },
  {
   "cell_type": "markdown",
   "id": "58c9c402-0c0d-4ec4-9ed7-61ad01598fec",
   "metadata": {},
   "source": [
    "### Test R²"
   ]
  },
  {
   "cell_type": "code",
   "execution_count": 243,
   "id": "34c0fbc8-09e9-43a0-ae2a-a140aab82867",
   "metadata": {},
   "outputs": [
    {
     "name": "stdout",
     "output_type": "stream",
     "text": [
      "0.6470585105259865\n"
     ]
    }
   ],
   "source": [
    "test_r2 = mlr.rsquared\n",
    "print(test_r2)"
   ]
  },
  {
   "cell_type": "markdown",
   "id": "90646eb1-afce-4ccb-b727-f08429413ede",
   "metadata": {},
   "source": [
    "### Adjusted R²"
   ]
  },
  {
   "cell_type": "code",
   "execution_count": 235,
   "id": "f4373e0f-283c-4f77-9bf2-1950ce6de2ae",
   "metadata": {},
   "outputs": [],
   "source": [
    "# Compute additional metrics\n",
    "adjusted_r2 = mlr.rsquared_adj"
   ]
  },
  {
   "cell_type": "code",
   "execution_count": 314,
   "id": "235ac5c3-47b9-41f3-ac49-2c981b9cd847",
   "metadata": {},
   "outputs": [
    {
     "name": "stdout",
     "output_type": "stream",
     "text": [
      "0.5874064277979842\n"
     ]
    }
   ],
   "source": [
    "print(adjusted_r2)"
   ]
  },
  {
   "cell_type": "markdown",
   "id": "ce255828-ac6c-411f-883f-0bc44ca29abc",
   "metadata": {},
   "source": [
    "### Test MSPE"
   ]
  },
  {
   "cell_type": "code",
   "execution_count": 250,
   "id": "487f3b15-e54f-4952-8a68-3aef67648964",
   "metadata": {},
   "outputs": [
    {
     "name": "stdout",
     "output_type": "stream",
     "text": [
      "1.229442051088816\n"
     ]
    }
   ],
   "source": [
    "mspe = mean_squared_error(test_df['risk'], test_df['predicted_risk']) \n",
    "print(mspe)"
   ]
  },
  {
   "cell_type": "markdown",
   "id": "4d67c987-8194-45a5-b984-3ea1bdc9318f",
   "metadata": {},
   "source": [
    "# 4. Improve Model "
   ]
  },
  {
   "cell_type": "markdown",
   "id": "3b0f36d3-b464-4f8d-a710-3e7277f18dab",
   "metadata": {},
   "source": [
    "## Mean-centering of variables"
   ]
  },
  {
   "cell_type": "markdown",
   "id": "1502b727-2b57-4da9-ba95-8c9d45206658",
   "metadata": {},
   "source": [
    "### Mean-centering of predictors to fix multicollinearity caused by the intercept.\n",
    "### Mean-centering of a variable is to subtract the mean of this variable from all observations."
   ]
  },
  {
   "cell_type": "markdown",
   "id": "bc8e4e38-f3a0-4e2f-b43b-496eace3b048",
   "metadata": {},
   "source": [
    "### copy the train dataframe"
   ]
  },
  {
   "cell_type": "code",
   "execution_count": 291,
   "id": "c6069771-54d6-4129-af1e-b5940472ec82",
   "metadata": {},
   "outputs": [],
   "source": [
    "train_df1 = train_df"
   ]
  },
  {
   "cell_type": "markdown",
   "id": "9369a7a5-8a27-4c1b-bf2f-6f67797cce83",
   "metadata": {},
   "source": [
    "#### Mean center quantitative values and check"
   ]
  },
  {
   "cell_type": "code",
   "execution_count": 293,
   "id": "c3a92314-efed-4f26-8015-20eb34a1a2bf",
   "metadata": {},
   "outputs": [
    {
     "data": {
      "text/html": [
       "<div>\n",
       "<style scoped>\n",
       "    .dataframe tbody tr th:only-of-type {\n",
       "        vertical-align: middle;\n",
       "    }\n",
       "\n",
       "    .dataframe tbody tr th {\n",
       "        vertical-align: top;\n",
       "    }\n",
       "\n",
       "    .dataframe thead th {\n",
       "        text-align: right;\n",
       "    }\n",
       "</style>\n",
       "<table border=\"1\" class=\"dataframe\">\n",
       "  <thead>\n",
       "    <tr style=\"text-align: right;\">\n",
       "      <th></th>\n",
       "      <th>risk</th>\n",
       "      <th>length</th>\n",
       "      <th>age</th>\n",
       "      <th>cultures</th>\n",
       "      <th>xray</th>\n",
       "      <th>bed</th>\n",
       "      <th>patient</th>\n",
       "      <th>nurse</th>\n",
       "      <th>facilities</th>\n",
       "      <th>affiliation</th>\n",
       "      <th>region</th>\n",
       "      <th>length0</th>\n",
       "      <th>age0</th>\n",
       "      <th>cultures0</th>\n",
       "      <th>xray0</th>\n",
       "      <th>bed0</th>\n",
       "      <th>patient0</th>\n",
       "      <th>nurse0</th>\n",
       "      <th>facilities0</th>\n",
       "    </tr>\n",
       "  </thead>\n",
       "  <tbody>\n",
       "    <tr>\n",
       "      <th>27</th>\n",
       "      <td>3.2</td>\n",
       "      <td>8.19</td>\n",
       "      <td>52.1</td>\n",
       "      <td>10.8</td>\n",
       "      <td>59.2</td>\n",
       "      <td>176</td>\n",
       "      <td>156</td>\n",
       "      <td>88</td>\n",
       "      <td>37.1</td>\n",
       "      <td>no</td>\n",
       "      <td>NE</td>\n",
       "      <td>-1.634762</td>\n",
       "      <td>-1.013095</td>\n",
       "      <td>-5.545238</td>\n",
       "      <td>-22.764286</td>\n",
       "      <td>-71.75</td>\n",
       "      <td>-33.309524</td>\n",
       "      <td>-79.964286</td>\n",
       "      <td>-79.964286</td>\n",
       "    </tr>\n",
       "    <tr>\n",
       "      <th>6</th>\n",
       "      <td>4.6</td>\n",
       "      <td>9.68</td>\n",
       "      <td>57.8</td>\n",
       "      <td>16.7</td>\n",
       "      <td>79.0</td>\n",
       "      <td>186</td>\n",
       "      <td>151</td>\n",
       "      <td>129</td>\n",
       "      <td>40.0</td>\n",
       "      <td>no</td>\n",
       "      <td>S</td>\n",
       "      <td>-0.144762</td>\n",
       "      <td>4.686905</td>\n",
       "      <td>0.354762</td>\n",
       "      <td>-2.964286</td>\n",
       "      <td>-61.75</td>\n",
       "      <td>-38.309524</td>\n",
       "      <td>-38.964286</td>\n",
       "      <td>-38.964286</td>\n",
       "    </tr>\n",
       "    <tr>\n",
       "      <th>5</th>\n",
       "      <td>5.1</td>\n",
       "      <td>9.76</td>\n",
       "      <td>50.9</td>\n",
       "      <td>21.9</td>\n",
       "      <td>97.0</td>\n",
       "      <td>150</td>\n",
       "      <td>147</td>\n",
       "      <td>106</td>\n",
       "      <td>40.0</td>\n",
       "      <td>no</td>\n",
       "      <td>NC</td>\n",
       "      <td>-0.064762</td>\n",
       "      <td>-2.213095</td>\n",
       "      <td>5.554762</td>\n",
       "      <td>15.035714</td>\n",
       "      <td>-97.75</td>\n",
       "      <td>-42.309524</td>\n",
       "      <td>-61.964286</td>\n",
       "      <td>-61.964286</td>\n",
       "    </tr>\n",
       "    <tr>\n",
       "      <th>60</th>\n",
       "      <td>3.4</td>\n",
       "      <td>10.42</td>\n",
       "      <td>58.0</td>\n",
       "      <td>8.0</td>\n",
       "      <td>59.0</td>\n",
       "      <td>119</td>\n",
       "      <td>67</td>\n",
       "      <td>64</td>\n",
       "      <td>31.4</td>\n",
       "      <td>no</td>\n",
       "      <td>NE</td>\n",
       "      <td>0.595238</td>\n",
       "      <td>4.886905</td>\n",
       "      <td>-8.345238</td>\n",
       "      <td>-22.964286</td>\n",
       "      <td>-128.75</td>\n",
       "      <td>-122.309524</td>\n",
       "      <td>-103.964286</td>\n",
       "      <td>-103.964286</td>\n",
       "    </tr>\n",
       "    <tr>\n",
       "      <th>109</th>\n",
       "      <td>5.8</td>\n",
       "      <td>9.50</td>\n",
       "      <td>49.3</td>\n",
       "      <td>42.0</td>\n",
       "      <td>70.9</td>\n",
       "      <td>98</td>\n",
       "      <td>68</td>\n",
       "      <td>46</td>\n",
       "      <td>22.9</td>\n",
       "      <td>no</td>\n",
       "      <td>S</td>\n",
       "      <td>-0.324762</td>\n",
       "      <td>-3.813095</td>\n",
       "      <td>25.654762</td>\n",
       "      <td>-11.064286</td>\n",
       "      <td>-149.75</td>\n",
       "      <td>-121.309524</td>\n",
       "      <td>-121.964286</td>\n",
       "      <td>-121.964286</td>\n",
       "    </tr>\n",
       "  </tbody>\n",
       "</table>\n",
       "</div>"
      ],
      "text/plain": [
       "     risk  length   age  cultures  xray  bed  patient  nurse  facilities  \\\n",
       "27    3.2    8.19  52.1      10.8  59.2  176      156     88        37.1   \n",
       "6     4.6    9.68  57.8      16.7  79.0  186      151    129        40.0   \n",
       "5     5.1    9.76  50.9      21.9  97.0  150      147    106        40.0   \n",
       "60    3.4   10.42  58.0       8.0  59.0  119       67     64        31.4   \n",
       "109   5.8    9.50  49.3      42.0  70.9   98       68     46        22.9   \n",
       "\n",
       "    affiliation region   length0      age0  cultures0      xray0    bed0  \\\n",
       "27           no     NE -1.634762 -1.013095  -5.545238 -22.764286  -71.75   \n",
       "6            no      S -0.144762  4.686905   0.354762  -2.964286  -61.75   \n",
       "5            no     NC -0.064762 -2.213095   5.554762  15.035714  -97.75   \n",
       "60           no     NE  0.595238  4.886905  -8.345238 -22.964286 -128.75   \n",
       "109          no      S -0.324762 -3.813095  25.654762 -11.064286 -149.75   \n",
       "\n",
       "       patient0      nurse0  facilities0  \n",
       "27   -33.309524  -79.964286   -79.964286  \n",
       "6    -38.309524  -38.964286   -38.964286  \n",
       "5    -42.309524  -61.964286   -61.964286  \n",
       "60  -122.309524 -103.964286  -103.964286  \n",
       "109 -121.309524 -121.964286  -121.964286  "
      ]
     },
     "execution_count": 293,
     "metadata": {},
     "output_type": "execute_result"
    }
   ],
   "source": [
    "train_df1['length0'] = train_df1.length - np.mean(train_df1.length)\n",
    "train_df1['age0'] = train_df1.age - np.mean(train_df1.age)\n",
    "train_df1['cultures0'] = train_df1.cultures - np.mean(train_df1.cultures)\n",
    "train_df1['xray0'] = train_df1.xray - np.mean(train_df1.xray)\n",
    "train_df1['bed0'] = train_df1.bed - np.mean(train_df1.bed)\n",
    "train_df1['patient0'] = train_df1.patient - np.mean(train_df1.patient)\n",
    "train_df1['nurse0'] = train_df1.nurse - np.mean(train_df1.nurse)\n",
    "train_df1['facilities0'] = train_df1.nurse - np.mean(train_df1.nurse)\n",
    "train_df1.head()"
   ]
  },
  {
   "cell_type": "code",
   "execution_count": null,
   "id": "3206f7c5-ce77-488a-ad79-e06993a99b3c",
   "metadata": {},
   "outputs": [],
   "source": [
    "## Fit the new MLR model "
   ]
  },
  {
   "cell_type": "code",
   "execution_count": 387,
   "id": "fcf26d31-6dd2-4467-9934-21f44b94d063",
   "metadata": {},
   "outputs": [
    {
     "name": "stdout",
     "output_type": "stream",
     "text": [
      "                            OLS Regression Results                            \n",
      "==============================================================================\n",
      "Dep. Variable:                   risk   R-squared:                       0.642\n",
      "Model:                            OLS   Adj. R-squared:                  0.588\n",
      "Method:                 Least Squares   F-statistic:                     11.76\n",
      "Date:                Fri, 07 Feb 2025   Prob (F-statistic):           3.28e-12\n",
      "Time:                        22:00:41   Log-Likelihood:                -100.21\n",
      "No. Observations:                  84   AIC:                             224.4\n",
      "Df Residuals:                      72   BIC:                             253.6\n",
      "Df Model:                          11                                         \n",
      "Covariance Type:            nonrobust                                         \n",
      "======================================================================================\n",
      "                         coef    std err          t      P>|t|      [0.025      0.975]\n",
      "--------------------------------------------------------------------------------------\n",
      "Intercept              4.2601      0.215     19.843      0.000       3.832       4.688\n",
      "affiliation[T.yes]    -0.3203      0.391     -0.819      0.415      -1.100       0.459\n",
      "region[T.NE]          -0.2005      0.304     -0.660      0.512      -0.806       0.405\n",
      "region[T.S]            0.2220      0.270      0.821      0.414      -0.317       0.761\n",
      "region[T.W]            0.8391      0.328      2.559      0.013       0.185       1.493\n",
      "length0                0.2385      0.072      3.298      0.002       0.094       0.383\n",
      "age0                   0.0058      0.022      0.258      0.797      -0.039       0.051\n",
      "cultures0              0.0480      0.011      4.388      0.000       0.026       0.070\n",
      "xray0                  0.0166      0.006      2.877      0.005       0.005       0.028\n",
      "bed0                  -0.0025      0.003     -0.751      0.455      -0.009       0.004\n",
      "patient0               0.0021      0.004      0.502      0.617      -0.006       0.010\n",
      "nurse0                 0.0020      0.001      2.176      0.033       0.000       0.004\n",
      "facilities0            0.0020      0.001      2.176      0.033       0.000       0.004\n",
      "==============================================================================\n",
      "Omnibus:                        1.966   Durbin-Watson:                   2.259\n",
      "Prob(Omnibus):                  0.374   Jarque-Bera (JB):                1.378\n",
      "Skew:                           0.006   Prob(JB):                        0.502\n",
      "Kurtosis:                       2.373   Cond. No.                     4.45e+16\n",
      "==============================================================================\n",
      "\n",
      "Notes:\n",
      "[1] Standard Errors assume that the covariance matrix of the errors is correctly specified.\n",
      "[2] The smallest eigenvalue is 3.5e-27. This might indicate that there are\n",
      "strong multicollinearity problems or that the design matrix is singular.\n",
      "\n",
      "MSE = 0.7423907046735833\n"
     ]
    }
   ],
   "source": [
    "# Fit the full MLR model.\n",
    "# Type your code here:\n",
    "mlr1 = smf.ols('risk ~ length0 + age0 + cultures0 + xray0 + bed0  + patient0 + nurse0 + facilities0 + affiliation + region', train_df1).fit()\n",
    "print(mlr1.summary())\n",
    "print('\\nMSE =', mlr1.mse_resid)"
   ]
  },
  {
   "cell_type": "markdown",
   "id": "5ef1b9d3-8ddb-4608-ba6f-56f184f3527d",
   "metadata": {},
   "source": [
    "### Extract the new residuals"
   ]
  },
  {
   "cell_type": "code",
   "execution_count": 389,
   "id": "094dcdba-e549-47d0-9654-5f9c9f584e72",
   "metadata": {},
   "outputs": [
    {
     "name": "stdout",
     "output_type": "stream",
     "text": [
      "27     0.378821\n",
      "6      0.232092\n",
      "5      0.433933\n",
      "60     0.284096\n",
      "109    0.717143\n",
      "         ...   \n",
      "28    -0.584529\n",
      "30    -0.465596\n",
      "87    -0.023049\n",
      "46    -0.528356\n",
      "13    -0.124560\n",
      "Length: 84, dtype: float64\n"
     ]
    }
   ],
   "source": [
    "res1 = mlr1.resid\n",
    "print(res1)"
   ]
  },
  {
   "cell_type": "markdown",
   "id": "4fef242e-8875-401d-8793-0bb509604b50",
   "metadata": {},
   "source": [
    "### Normality\n",
    "#### Histogram\n",
    "#### QQ plot\n",
    "#### JB test\n",
    "#### Omnibus test"
   ]
  },
  {
   "cell_type": "code",
   "execution_count": 391,
   "id": "38fbbeaf-b702-4ce1-90ef-d78eec86282c",
   "metadata": {},
   "outputs": [
    {
     "data": {
      "image/png": "[encoded data removed]",
      "text/plain": [
       "<Figure size 800x500 with 1 Axes>"
      ]
     },
     "metadata": {},
     "output_type": "display_data"
    },
    {
     "data": {
      "image/png": "[encoded data removed]",
      "text/plain": [
       "<Figure size 640x480 with 1 Axes>"
      ]
     },
     "metadata": {},
     "output_type": "display_data"
    },
    {
     "name": "stdout",
     "output_type": "stream",
     "text": [
      "(1.3781467044321558, 0.502041068831151, 0.005941232493097673, 2.3726125532876976)\n",
      "NormaltestResult(statistic=1.9657328957325937, pvalue=0.37423682955692605)\n"
     ]
    }
   ],
   "source": [
    "# Plot histogram of residuals\n",
    "plt.figure(figsize=(8, 5))\n",
    "sns.histplot(res1, bins=30, kde=True, color=\"blue\")\n",
    "# Labels and title\n",
    "plt.xlabel(\"Residuals\")\n",
    "plt.ylabel(\"Frequency\")\n",
    "plt.title(\"Histogram of Residuals Mean centered\")\n",
    "# Show the plot\n",
    "plt.show()\n",
    "\n",
    "# Create a Q-Q plot\n",
    "sm.qqplot(mlr1.resid, line='45', fit=True)\n",
    "# Add labels & title\n",
    "plt.title(\"Q-Q Plot of Residuals Mean centered\")\n",
    "plt.xlabel(\"Theoretical Quantiles\")\n",
    "plt.ylabel(\"Sample Quantiles\")\n",
    "# Show the plot\n",
    "plt.show()\n",
    "\n",
    "# JB test\n",
    "x  = sm.stats.jarque_bera(res1)\n",
    "print(x)\n",
    "# omnibus test\n",
    "y = sm.stats.omni_normtest(res1)\n",
    "print(y)"
   ]
  },
  {
   "cell_type": "markdown",
   "id": "9b9c767e-fdd2-4cb8-99c4-8073d75cc1be",
   "metadata": {},
   "source": [
    "### Check Assumption: Constant Variance (Homoscedasticity)\n",
    "#### We can use visualization or run statistical test to check if residuals satisfy the homoscedasticity assumption.\n",
    "#### Plot of residuals vs. fitted values should be \"bounded in a horizontal band\".\n",
    "#### Breusch–Pagan test: we want to see \"large\" p-value so as not to reject homoscedasticity."
   ]
  },
  {
   "cell_type": "code",
   "execution_count": 393,
   "id": "de482efa-c5e8-42d5-84ac-3708e03afa43",
   "metadata": {},
   "outputs": [
    {
     "data": {
      "image/png": "[encoded data removed]",
      "text/plain": [
       "<Figure size 640x480 with 1 Axes>"
      ]
     },
     "metadata": {},
     "output_type": "display_data"
    },
    {
     "data": {
      "text/plain": [
       "(17.12497483529224,\n",
       " 0.14495634539837499,\n",
       " 1.6761226496795762,\n",
       " 0.0963916595435576)"
      ]
     },
     "execution_count": 393,
     "metadata": {},
     "output_type": "execute_result"
    }
   ],
   "source": [
    "# Residual plot\n",
    "sns.residplot(x=mlr1.fittedvalues, y=res, lowess=True, line_kws={'color': 'red'})\n",
    "# Labels and title\n",
    "plt.xlabel(\"Fitted Values\")\n",
    "plt.ylabel(\"Residuals\")\n",
    "plt.title(\"Residual Plot Mean centered\")\n",
    "\n",
    "# Show the plot\n",
    "plt.show()\n",
    "# Perform the Breusch-Pagan test on residuals.\n",
    "sm.stats.het_breuschpagan(res1, mlr1.model.exog)\n"
   ]
  },
  {
   "cell_type": "markdown",
   "id": "fd094cbb-2fbd-4e08-b2bf-c800787696e0",
   "metadata": {},
   "source": [
    "### Check Assumption: Independence\n",
    "#### We can use visualization or run statistical test to check if residuals satisfy the independence assumption.\n",
    "#### Durbin-Watson test is used to detect autocorrelation in residuals. We want DW around 2"
   ]
  },
  {
   "cell_type": "code",
   "execution_count": 395,
   "id": "87514886-834e-4554-94ab-8e68c6e793aa",
   "metadata": {},
   "outputs": [
    {
     "data": {
      "text/plain": [
       "2.259071296375148"
      ]
     },
     "execution_count": 395,
     "metadata": {},
     "output_type": "execute_result"
    }
   ],
   "source": [
    "sm.stats.durbin_watson(res1)"
   ]
  },
  {
   "cell_type": "markdown",
   "id": "7f97cc38-d741-4d73-bec5-d7a2b04e44cd",
   "metadata": {},
   "source": [
    "### Check Assumption: Multicollinearity"
   ]
  },
  {
   "cell_type": "code",
   "execution_count": 397,
   "id": "2d405748-0f32-42e5-be94-7f6b1de8a09d",
   "metadata": {},
   "outputs": [
    {
     "data": {
      "text/plain": [
       "4.448134423164633e+16"
      ]
     },
     "execution_count": 397,
     "metadata": {},
     "output_type": "execute_result"
    }
   ],
   "source": [
    "# To extract condition number, type: modelname.condition_number\n",
    "mlr1.condition_number"
   ]
  },
  {
   "cell_type": "code",
   "execution_count": 399,
   "id": "2c9dadf8-ba7b-41cf-86cc-056b5889c265",
   "metadata": {},
   "outputs": [
    {
     "name": "stdout",
     "output_type": "stream",
     "text": [
      "Intercept 5.2152981758732\n",
      "affiliation[T.yes] 2.1185902433071955\n",
      "region[T.NE] 2.0200140842884546\n",
      "region[T.S] 1.8702440334645345\n",
      "region[T.W] 1.4899988744079322\n",
      "length0 2.545469315086026\n",
      "age0 1.2581460859017988\n",
      "cultures0 1.5705358385031571\n",
      "xray0 1.510079195344279\n",
      "bed0 40.927281232515504\n",
      "patient0 41.63814959576447\n",
      "nurse0 inf\n",
      "facilities0 inf\n"
     ]
    },
    {
     "name": "stderr",
     "output_type": "stream",
     "text": [
      "/opt/anaconda3/lib/python3.12/site-packages/statsmodels/stats/outliers_influence.py:197: RuntimeWarning: divide by zero encountered in scalar divide\n",
      "  vif = 1. / (1. - r_squared_i)\n"
     ]
    }
   ],
   "source": [
    "for i in range(13):\n",
    "    predictor = mlr1.model.exog_names[i]\n",
    "    Vif = vif(mlr1.model.exog,i)\n",
    "    print(predictor, Vif)"
   ]
  },
  {
   "cell_type": "markdown",
   "id": "2dce230b-ef19-4eb3-9205-77f419239cd4",
   "metadata": {},
   "source": [
    "### Predict based on the new MLR model"
   ]
  },
  {
   "cell_type": "code",
   "execution_count": 401,
   "id": "75681609-5352-4143-a3e1-2092eb57d5fb",
   "metadata": {},
   "outputs": [],
   "source": [
    "test_df1 = test_df"
   ]
  },
  {
   "cell_type": "code",
   "execution_count": 403,
   "id": "2c1530b3-a4a3-462d-960a-3bb9a32f97e4",
   "metadata": {},
   "outputs": [
    {
     "data": {
      "text/html": [
       "<div>\n",
       "<style scoped>\n",
       "    .dataframe tbody tr th:only-of-type {\n",
       "        vertical-align: middle;\n",
       "    }\n",
       "\n",
       "    .dataframe tbody tr th {\n",
       "        vertical-align: top;\n",
       "    }\n",
       "\n",
       "    .dataframe thead th {\n",
       "        text-align: right;\n",
       "    }\n",
       "</style>\n",
       "<table border=\"1\" class=\"dataframe\">\n",
       "  <thead>\n",
       "    <tr style=\"text-align: right;\">\n",
       "      <th></th>\n",
       "      <th>risk</th>\n",
       "      <th>length</th>\n",
       "      <th>age</th>\n",
       "      <th>cultures</th>\n",
       "      <th>xray</th>\n",
       "      <th>bed</th>\n",
       "      <th>patient</th>\n",
       "      <th>nurse</th>\n",
       "      <th>facilities</th>\n",
       "      <th>affiliation</th>\n",
       "      <th>region</th>\n",
       "      <th>length0</th>\n",
       "      <th>age0</th>\n",
       "      <th>cultures0</th>\n",
       "      <th>xray0</th>\n",
       "      <th>bed0</th>\n",
       "      <th>patient0</th>\n",
       "      <th>nurse0</th>\n",
       "      <th>facilities0</th>\n",
       "    </tr>\n",
       "  </thead>\n",
       "  <tbody>\n",
       "    <tr>\n",
       "      <th>52</th>\n",
       "      <td>7.6</td>\n",
       "      <td>11.41</td>\n",
       "      <td>61.1</td>\n",
       "      <td>16.6</td>\n",
       "      <td>97.9</td>\n",
       "      <td>535</td>\n",
       "      <td>330</td>\n",
       "      <td>273</td>\n",
       "      <td>51.4</td>\n",
       "      <td>no</td>\n",
       "      <td>S</td>\n",
       "      <td>2.272759</td>\n",
       "      <td>7.524138</td>\n",
       "      <td>2.406897</td>\n",
       "      <td>17.244828</td>\n",
       "      <td>270.034483</td>\n",
       "      <td>132.655172</td>\n",
       "      <td>84.448276</td>\n",
       "      <td>84.448276</td>\n",
       "    </tr>\n",
       "    <tr>\n",
       "      <th>34</th>\n",
       "      <td>6.3</td>\n",
       "      <td>9.74</td>\n",
       "      <td>54.4</td>\n",
       "      <td>11.4</td>\n",
       "      <td>76.1</td>\n",
       "      <td>221</td>\n",
       "      <td>170</td>\n",
       "      <td>172</td>\n",
       "      <td>54.3</td>\n",
       "      <td>no</td>\n",
       "      <td>NC</td>\n",
       "      <td>0.602759</td>\n",
       "      <td>0.824138</td>\n",
       "      <td>-2.793103</td>\n",
       "      <td>-4.555172</td>\n",
       "      <td>-43.965517</td>\n",
       "      <td>-27.344828</td>\n",
       "      <td>-16.551724</td>\n",
       "      <td>-16.551724</td>\n",
       "    </tr>\n",
       "    <tr>\n",
       "      <th>31</th>\n",
       "      <td>5.2</td>\n",
       "      <td>9.84</td>\n",
       "      <td>53.0</td>\n",
       "      <td>17.7</td>\n",
       "      <td>72.6</td>\n",
       "      <td>210</td>\n",
       "      <td>200</td>\n",
       "      <td>239</td>\n",
       "      <td>54.3</td>\n",
       "      <td>no</td>\n",
       "      <td>NC</td>\n",
       "      <td>0.702759</td>\n",
       "      <td>-0.575862</td>\n",
       "      <td>3.506897</td>\n",
       "      <td>-8.055172</td>\n",
       "      <td>-54.965517</td>\n",
       "      <td>2.655172</td>\n",
       "      <td>50.448276</td>\n",
       "      <td>50.448276</td>\n",
       "    </tr>\n",
       "    <tr>\n",
       "      <th>92</th>\n",
       "      <td>1.3</td>\n",
       "      <td>8.92</td>\n",
       "      <td>53.9</td>\n",
       "      <td>2.2</td>\n",
       "      <td>79.5</td>\n",
       "      <td>56</td>\n",
       "      <td>40</td>\n",
       "      <td>14</td>\n",
       "      <td>5.7</td>\n",
       "      <td>no</td>\n",
       "      <td>NC</td>\n",
       "      <td>-0.217241</td>\n",
       "      <td>0.324138</td>\n",
       "      <td>-11.993103</td>\n",
       "      <td>-1.155172</td>\n",
       "      <td>-208.965517</td>\n",
       "      <td>-157.344828</td>\n",
       "      <td>-174.551724</td>\n",
       "      <td>-174.551724</td>\n",
       "    </tr>\n",
       "    <tr>\n",
       "      <th>19</th>\n",
       "      <td>4.1</td>\n",
       "      <td>9.35</td>\n",
       "      <td>53.8</td>\n",
       "      <td>15.9</td>\n",
       "      <td>80.9</td>\n",
       "      <td>833</td>\n",
       "      <td>547</td>\n",
       "      <td>519</td>\n",
       "      <td>77.1</td>\n",
       "      <td>no</td>\n",
       "      <td>S</td>\n",
       "      <td>0.212759</td>\n",
       "      <td>0.224138</td>\n",
       "      <td>1.706897</td>\n",
       "      <td>0.244828</td>\n",
       "      <td>568.034483</td>\n",
       "      <td>349.655172</td>\n",
       "      <td>330.448276</td>\n",
       "      <td>330.448276</td>\n",
       "    </tr>\n",
       "  </tbody>\n",
       "</table>\n",
       "</div>"
      ],
      "text/plain": [
       "    risk  length   age  cultures  xray  bed  patient  nurse  facilities  \\\n",
       "52   7.6   11.41  61.1      16.6  97.9  535      330    273        51.4   \n",
       "34   6.3    9.74  54.4      11.4  76.1  221      170    172        54.3   \n",
       "31   5.2    9.84  53.0      17.7  72.6  210      200    239        54.3   \n",
       "92   1.3    8.92  53.9       2.2  79.5   56       40     14         5.7   \n",
       "19   4.1    9.35  53.8      15.9  80.9  833      547    519        77.1   \n",
       "\n",
       "   affiliation region   length0      age0  cultures0      xray0        bed0  \\\n",
       "52          no      S  2.272759  7.524138   2.406897  17.244828  270.034483   \n",
       "34          no     NC  0.602759  0.824138  -2.793103  -4.555172  -43.965517   \n",
       "31          no     NC  0.702759 -0.575862   3.506897  -8.055172  -54.965517   \n",
       "92          no     NC -0.217241  0.324138 -11.993103  -1.155172 -208.965517   \n",
       "19          no      S  0.212759  0.224138   1.706897   0.244828  568.034483   \n",
       "\n",
       "      patient0      nurse0  facilities0  \n",
       "52  132.655172   84.448276    84.448276  \n",
       "34  -27.344828  -16.551724   -16.551724  \n",
       "31    2.655172   50.448276    50.448276  \n",
       "92 -157.344828 -174.551724  -174.551724  \n",
       "19  349.655172  330.448276   330.448276  "
      ]
     },
     "execution_count": 403,
     "metadata": {},
     "output_type": "execute_result"
    }
   ],
   "source": [
    "test_df1['length0'] = test_df1.length - np.mean(test_df1.length)\n",
    "test_df1['age0'] = test_df1.age - np.mean(test_df1.age)\n",
    "test_df1['cultures0'] = test_df1.cultures - np.mean(test_df1.cultures)\n",
    "test_df1['xray0'] = test_df1.xray - np.mean(test_df1.xray)\n",
    "test_df1['bed0'] = test_df1.bed - np.mean(test_df1.bed)\n",
    "test_df1['patient0'] = test_df1.patient - np.mean(test_df1.patient)\n",
    "test_df1['nurse0'] = test_df1.nurse - np.mean(test_df1.nurse)\n",
    "test_df1['facilities0'] = test_df1.nurse - np.mean(test_df1.nurse)\n",
    "test_df1.head()"
   ]
  },
  {
   "cell_type": "code",
   "execution_count": 405,
   "id": "37c44c05-0feb-4456-a51e-d99cac054c1f",
   "metadata": {},
   "outputs": [],
   "source": [
    "# Make predictions on the test set\n",
    "test_df1['predicted_risk'] = mlr1.predict(test_df)"
   ]
  },
  {
   "cell_type": "code",
   "execution_count": 407,
   "id": "23863be9-e69c-4157-bc47-294937c05064",
   "metadata": {},
   "outputs": [
    {
     "name": "stdout",
     "output_type": "stream",
     "text": [
      "52     5.386925\n",
      "34     4.189501\n",
      "31     4.802389\n",
      "92     3.137508\n",
      "19     5.192733\n",
      "110    4.376169\n",
      "10     6.935769\n",
      "75     4.182858\n",
      "25     4.844524\n",
      "2      3.544638\n",
      "90     3.905575\n",
      "47     4.152312\n",
      "56     3.579976\n",
      "9      4.467727\n",
      "54     2.844600\n",
      "66     4.407912\n",
      "18     3.697243\n",
      "73     5.090120\n",
      "44     3.950552\n",
      "96     3.787034\n",
      "88     4.466652\n",
      "22     4.413997\n",
      "57     5.061793\n",
      "112    4.652801\n",
      "63     4.286937\n",
      "8      4.792761\n",
      "51     3.965387\n",
      "39     2.851168\n",
      "61     4.902830\n",
      "Name: predicted_risk, dtype: float64\n"
     ]
    }
   ],
   "source": [
    "print(test_df1['predicted_risk'])"
   ]
  },
  {
   "cell_type": "code",
   "execution_count": 409,
   "id": "15835149-956d-4726-8923-7a13676238a9",
   "metadata": {},
   "outputs": [
    {
     "data": {
      "text/html": [
       "<div>\n",
       "<style scoped>\n",
       "    .dataframe tbody tr th:only-of-type {\n",
       "        vertical-align: middle;\n",
       "    }\n",
       "\n",
       "    .dataframe tbody tr th {\n",
       "        vertical-align: top;\n",
       "    }\n",
       "\n",
       "    .dataframe thead th {\n",
       "        text-align: right;\n",
       "    }\n",
       "</style>\n",
       "<table border=\"1\" class=\"dataframe\">\n",
       "  <thead>\n",
       "    <tr style=\"text-align: right;\">\n",
       "      <th></th>\n",
       "      <th>mean</th>\n",
       "      <th>mean_se</th>\n",
       "      <th>mean_ci_lower</th>\n",
       "      <th>mean_ci_upper</th>\n",
       "      <th>obs_ci_lower</th>\n",
       "      <th>obs_ci_upper</th>\n",
       "    </tr>\n",
       "  </thead>\n",
       "  <tbody>\n",
       "    <tr>\n",
       "      <th>0</th>\n",
       "      <td>5.386925</td>\n",
       "      <td>0.538630</td>\n",
       "      <td>4.313184</td>\n",
       "      <td>6.460665</td>\n",
       "      <td>3.361313</td>\n",
       "      <td>7.412536</td>\n",
       "    </tr>\n",
       "    <tr>\n",
       "      <th>1</th>\n",
       "      <td>4.189501</td>\n",
       "      <td>0.235095</td>\n",
       "      <td>3.720848</td>\n",
       "      <td>4.658153</td>\n",
       "      <td>2.409102</td>\n",
       "      <td>5.969899</td>\n",
       "    </tr>\n",
       "    <tr>\n",
       "      <th>2</th>\n",
       "      <td>4.802389</td>\n",
       "      <td>0.361198</td>\n",
       "      <td>4.082355</td>\n",
       "      <td>5.522424</td>\n",
       "      <td>2.939962</td>\n",
       "      <td>6.664816</td>\n",
       "    </tr>\n",
       "    <tr>\n",
       "      <th>3</th>\n",
       "      <td>3.137508</td>\n",
       "      <td>0.270649</td>\n",
       "      <td>2.597980</td>\n",
       "      <td>3.677037</td>\n",
       "      <td>1.337154</td>\n",
       "      <td>4.937863</td>\n",
       "    </tr>\n",
       "    <tr>\n",
       "      <th>4</th>\n",
       "      <td>5.192733</td>\n",
       "      <td>0.640077</td>\n",
       "      <td>3.916763</td>\n",
       "      <td>6.468703</td>\n",
       "      <td>3.053041</td>\n",
       "      <td>7.332426</td>\n",
       "    </tr>\n",
       "    <tr>\n",
       "      <th>5</th>\n",
       "      <td>4.376169</td>\n",
       "      <td>0.282604</td>\n",
       "      <td>3.812809</td>\n",
       "      <td>4.939530</td>\n",
       "      <td>2.568530</td>\n",
       "      <td>6.183808</td>\n",
       "    </tr>\n",
       "    <tr>\n",
       "      <th>6</th>\n",
       "      <td>6.935769</td>\n",
       "      <td>0.468795</td>\n",
       "      <td>6.001243</td>\n",
       "      <td>7.870296</td>\n",
       "      <td>4.980386</td>\n",
       "      <td>8.891153</td>\n",
       "    </tr>\n",
       "    <tr>\n",
       "      <th>7</th>\n",
       "      <td>4.182858</td>\n",
       "      <td>0.305465</td>\n",
       "      <td>3.573925</td>\n",
       "      <td>4.791791</td>\n",
       "      <td>2.360501</td>\n",
       "      <td>6.005214</td>\n",
       "    </tr>\n",
       "    <tr>\n",
       "      <th>8</th>\n",
       "      <td>4.844524</td>\n",
       "      <td>0.417387</td>\n",
       "      <td>4.012478</td>\n",
       "      <td>5.676570</td>\n",
       "      <td>2.935995</td>\n",
       "      <td>6.753054</td>\n",
       "    </tr>\n",
       "    <tr>\n",
       "      <th>9</th>\n",
       "      <td>3.544638</td>\n",
       "      <td>0.204206</td>\n",
       "      <td>3.137560</td>\n",
       "      <td>3.951715</td>\n",
       "      <td>1.779448</td>\n",
       "      <td>5.309828</td>\n",
       "    </tr>\n",
       "    <tr>\n",
       "      <th>10</th>\n",
       "      <td>3.905575</td>\n",
       "      <td>0.228922</td>\n",
       "      <td>3.449228</td>\n",
       "      <td>4.361923</td>\n",
       "      <td>2.128376</td>\n",
       "      <td>5.682775</td>\n",
       "    </tr>\n",
       "    <tr>\n",
       "      <th>11</th>\n",
       "      <td>4.152312</td>\n",
       "      <td>0.496205</td>\n",
       "      <td>3.163145</td>\n",
       "      <td>5.141478</td>\n",
       "      <td>2.170234</td>\n",
       "      <td>6.134390</td>\n",
       "    </tr>\n",
       "    <tr>\n",
       "      <th>12</th>\n",
       "      <td>3.579976</td>\n",
       "      <td>0.298552</td>\n",
       "      <td>2.984823</td>\n",
       "      <td>4.175129</td>\n",
       "      <td>1.762178</td>\n",
       "      <td>5.397775</td>\n",
       "    </tr>\n",
       "    <tr>\n",
       "      <th>13</th>\n",
       "      <td>4.467727</td>\n",
       "      <td>0.287970</td>\n",
       "      <td>3.893669</td>\n",
       "      <td>5.041785</td>\n",
       "      <td>2.656726</td>\n",
       "      <td>6.278729</td>\n",
       "    </tr>\n",
       "    <tr>\n",
       "      <th>14</th>\n",
       "      <td>2.844600</td>\n",
       "      <td>0.293877</td>\n",
       "      <td>2.258767</td>\n",
       "      <td>3.430433</td>\n",
       "      <td>1.029831</td>\n",
       "      <td>4.659369</td>\n",
       "    </tr>\n",
       "    <tr>\n",
       "      <th>15</th>\n",
       "      <td>4.407912</td>\n",
       "      <td>0.269285</td>\n",
       "      <td>3.871101</td>\n",
       "      <td>4.944722</td>\n",
       "      <td>2.608370</td>\n",
       "      <td>6.207453</td>\n",
       "    </tr>\n",
       "    <tr>\n",
       "      <th>16</th>\n",
       "      <td>3.697243</td>\n",
       "      <td>0.249335</td>\n",
       "      <td>3.200203</td>\n",
       "      <td>4.194284</td>\n",
       "      <td>1.909162</td>\n",
       "      <td>5.485324</td>\n",
       "    </tr>\n",
       "    <tr>\n",
       "      <th>17</th>\n",
       "      <td>5.090120</td>\n",
       "      <td>0.460822</td>\n",
       "      <td>4.171488</td>\n",
       "      <td>6.008752</td>\n",
       "      <td>3.142283</td>\n",
       "      <td>7.037957</td>\n",
       "    </tr>\n",
       "    <tr>\n",
       "      <th>18</th>\n",
       "      <td>3.950552</td>\n",
       "      <td>0.243746</td>\n",
       "      <td>3.464653</td>\n",
       "      <td>4.436451</td>\n",
       "      <td>2.165536</td>\n",
       "      <td>5.735568</td>\n",
       "    </tr>\n",
       "    <tr>\n",
       "      <th>19</th>\n",
       "      <td>3.787034</td>\n",
       "      <td>0.180294</td>\n",
       "      <td>3.427623</td>\n",
       "      <td>4.146444</td>\n",
       "      <td>2.032223</td>\n",
       "      <td>5.541844</td>\n",
       "    </tr>\n",
       "    <tr>\n",
       "      <th>20</th>\n",
       "      <td>4.466652</td>\n",
       "      <td>0.208487</td>\n",
       "      <td>4.051041</td>\n",
       "      <td>4.882264</td>\n",
       "      <td>2.699474</td>\n",
       "      <td>6.233830</td>\n",
       "    </tr>\n",
       "    <tr>\n",
       "      <th>21</th>\n",
       "      <td>4.413997</td>\n",
       "      <td>0.434674</td>\n",
       "      <td>3.547490</td>\n",
       "      <td>5.280504</td>\n",
       "      <td>2.490194</td>\n",
       "      <td>6.337800</td>\n",
       "    </tr>\n",
       "    <tr>\n",
       "      <th>22</th>\n",
       "      <td>5.061793</td>\n",
       "      <td>0.406704</td>\n",
       "      <td>4.251044</td>\n",
       "      <td>5.872541</td>\n",
       "      <td>3.162451</td>\n",
       "      <td>6.961134</td>\n",
       "    </tr>\n",
       "    <tr>\n",
       "      <th>23</th>\n",
       "      <td>4.652801</td>\n",
       "      <td>0.291564</td>\n",
       "      <td>4.071579</td>\n",
       "      <td>5.234022</td>\n",
       "      <td>2.839516</td>\n",
       "      <td>6.466086</td>\n",
       "    </tr>\n",
       "    <tr>\n",
       "      <th>24</th>\n",
       "      <td>4.286937</td>\n",
       "      <td>0.275839</td>\n",
       "      <td>3.737063</td>\n",
       "      <td>4.836811</td>\n",
       "      <td>2.483455</td>\n",
       "      <td>6.090418</td>\n",
       "    </tr>\n",
       "    <tr>\n",
       "      <th>25</th>\n",
       "      <td>4.792761</td>\n",
       "      <td>0.236930</td>\n",
       "      <td>4.320449</td>\n",
       "      <td>5.265073</td>\n",
       "      <td>3.011396</td>\n",
       "      <td>6.574127</td>\n",
       "    </tr>\n",
       "    <tr>\n",
       "      <th>26</th>\n",
       "      <td>3.965387</td>\n",
       "      <td>0.482179</td>\n",
       "      <td>3.004182</td>\n",
       "      <td>4.926593</td>\n",
       "      <td>1.997114</td>\n",
       "      <td>5.933661</td>\n",
       "    </tr>\n",
       "    <tr>\n",
       "      <th>27</th>\n",
       "      <td>2.851168</td>\n",
       "      <td>0.266906</td>\n",
       "      <td>2.319101</td>\n",
       "      <td>3.383235</td>\n",
       "      <td>1.053036</td>\n",
       "      <td>4.649300</td>\n",
       "    </tr>\n",
       "    <tr>\n",
       "      <th>28</th>\n",
       "      <td>4.902830</td>\n",
       "      <td>0.495195</td>\n",
       "      <td>3.915676</td>\n",
       "      <td>5.889984</td>\n",
       "      <td>2.921755</td>\n",
       "      <td>6.883904</td>\n",
       "    </tr>\n",
       "  </tbody>\n",
       "</table>\n",
       "</div>"
      ],
      "text/plain": [
       "        mean   mean_se  mean_ci_lower  mean_ci_upper  obs_ci_lower  \\\n",
       "0   5.386925  0.538630       4.313184       6.460665      3.361313   \n",
       "1   4.189501  0.235095       3.720848       4.658153      2.409102   \n",
       "2   4.802389  0.361198       4.082355       5.522424      2.939962   \n",
       "3   3.137508  0.270649       2.597980       3.677037      1.337154   \n",
       "4   5.192733  0.640077       3.916763       6.468703      3.053041   \n",
       "5   4.376169  0.282604       3.812809       4.939530      2.568530   \n",
       "6   6.935769  0.468795       6.001243       7.870296      4.980386   \n",
       "7   4.182858  0.305465       3.573925       4.791791      2.360501   \n",
       "8   4.844524  0.417387       4.012478       5.676570      2.935995   \n",
       "9   3.544638  0.204206       3.137560       3.951715      1.779448   \n",
       "10  3.905575  0.228922       3.449228       4.361923      2.128376   \n",
       "11  4.152312  0.496205       3.163145       5.141478      2.170234   \n",
       "12  3.579976  0.298552       2.984823       4.175129      1.762178   \n",
       "13  4.467727  0.287970       3.893669       5.041785      2.656726   \n",
       "14  2.844600  0.293877       2.258767       3.430433      1.029831   \n",
       "15  4.407912  0.269285       3.871101       4.944722      2.608370   \n",
       "16  3.697243  0.249335       3.200203       4.194284      1.909162   \n",
       "17  5.090120  0.460822       4.171488       6.008752      3.142283   \n",
       "18  3.950552  0.243746       3.464653       4.436451      2.165536   \n",
       "19  3.787034  0.180294       3.427623       4.146444      2.032223   \n",
       "20  4.466652  0.208487       4.051041       4.882264      2.699474   \n",
       "21  4.413997  0.434674       3.547490       5.280504      2.490194   \n",
       "22  5.061793  0.406704       4.251044       5.872541      3.162451   \n",
       "23  4.652801  0.291564       4.071579       5.234022      2.839516   \n",
       "24  4.286937  0.275839       3.737063       4.836811      2.483455   \n",
       "25  4.792761  0.236930       4.320449       5.265073      3.011396   \n",
       "26  3.965387  0.482179       3.004182       4.926593      1.997114   \n",
       "27  2.851168  0.266906       2.319101       3.383235      1.053036   \n",
       "28  4.902830  0.495195       3.915676       5.889984      2.921755   \n",
       "\n",
       "    obs_ci_upper  \n",
       "0       7.412536  \n",
       "1       5.969899  \n",
       "2       6.664816  \n",
       "3       4.937863  \n",
       "4       7.332426  \n",
       "5       6.183808  \n",
       "6       8.891153  \n",
       "7       6.005214  \n",
       "8       6.753054  \n",
       "9       5.309828  \n",
       "10      5.682775  \n",
       "11      6.134390  \n",
       "12      5.397775  \n",
       "13      6.278729  \n",
       "14      4.659369  \n",
       "15      6.207453  \n",
       "16      5.485324  \n",
       "17      7.037957  \n",
       "18      5.735568  \n",
       "19      5.541844  \n",
       "20      6.233830  \n",
       "21      6.337800  \n",
       "22      6.961134  \n",
       "23      6.466086  \n",
       "24      6.090418  \n",
       "25      6.574127  \n",
       "26      5.933661  \n",
       "27      4.649300  \n",
       "28      6.883904  "
      ]
     },
     "execution_count": 409,
     "metadata": {},
     "output_type": "execute_result"
    }
   ],
   "source": [
    "mlr1.get_prediction(test_df1).summary_frame()"
   ]
  },
  {
   "cell_type": "markdown",
   "id": "14100ccc-c93f-4b7d-9c45-55d7fd701db7",
   "metadata": {},
   "source": [
    "###  Test mean centered information\n",
    "#### Test R²\n",
    "#### Adjusted R²\n",
    "#### Mspe"
   ]
  },
  {
   "cell_type": "code",
   "execution_count": 372,
   "id": "de143117-1d82-42ab-827b-26bc17040028",
   "metadata": {},
   "outputs": [
    {
     "name": "stdout",
     "output_type": "stream",
     "text": [
      "\n",
      " Mean Centered Test R² = 0.6423749455900936\n",
      "\n",
      " Mean Centered Adjusted R² = 0.5877377844996912\n",
      "\n",
      " Mean Centered MSPE = 1.243209871666792\n"
     ]
    }
   ],
   "source": [
    "test1_r2 = mlr1.rsquared\n",
    "print('\\n Mean Centered Test R² =',test1_r2)\n",
    "adjusted1_r2 = mlr1.rsquared_adj\n",
    "print('\\n Mean Centered Adjusted R² =',adjusted1_r2)\n",
    "mspe1 = mean_squared_error(test_df1['risk'], test_df1['predicted_risk']) \n",
    "print('\\n Mean Centered MSPE =',mspe1)"
   ]
  },
  {
   "cell_type": "markdown",
   "id": "177b6c4e-0cdd-450e-8dbc-07ae74703ef9",
   "metadata": {},
   "source": [
    "## Variable selection\n",
    "### Backward stepwise selection using predictor significance asthe criterion.\n",
    "### Set a significance level, say 𝛼 = 5%\n",
    "### Start with the full model, which contains all 𝑝 predictors.\n",
    "### From all the predictors that are currently in the model, identify theone that is most insignificant, i.e. has the highest t-test p-value (at least 𝛼). Remove the identified predictor and re-fit the model withonly the remaining ones."
   ]
  },
  {
   "cell_type": "markdown",
   "id": "82c4ac09-adbd-4be6-af19-a2d8e0acded3",
   "metadata": {},
   "source": [
    "### Reload the train and test "
   ]
  },
  {
   "cell_type": "code",
   "execution_count": 413,
   "id": "1267dee0-93f3-4764-bd61-8e88a97b6340",
   "metadata": {},
   "outputs": [],
   "source": [
    "train_df2 = train_df\n",
    "test_df2 = test_df"
   ]
  },
  {
   "cell_type": "markdown",
   "id": "e6e9f782-abaa-4072-be1a-2058345f89a4",
   "metadata": {},
   "source": [
    "### Full MLR Model"
   ]
  },
  {
   "cell_type": "code",
   "execution_count": 419,
   "id": "1fe655dd-97a4-4fa1-aa84-2f7edc14d4c5",
   "metadata": {},
   "outputs": [
    {
     "name": "stdout",
     "output_type": "stream",
     "text": [
      "                            OLS Regression Results                            \n",
      "==============================================================================\n",
      "Dep. Variable:                   risk   R-squared:                       0.647\n",
      "Model:                            OLS   Adj. R-squared:                  0.587\n",
      "Method:                 Least Squares   F-statistic:                     10.85\n",
      "Date:                Fri, 07 Feb 2025   Prob (F-statistic):           7.55e-12\n",
      "Time:                        22:03:26   Log-Likelihood:                -99.652\n",
      "No. Observations:                  84   AIC:                             225.3\n",
      "Df Residuals:                      71   BIC:                             256.9\n",
      "Df Model:                          12                                         \n",
      "Covariance Type:            nonrobust                                         \n",
      "======================================================================================\n",
      "                         coef    std err          t      P>|t|      [0.025      0.975]\n",
      "--------------------------------------------------------------------------------------\n",
      "Intercept             -1.1424      1.258     -0.908      0.367      -3.651       1.366\n",
      "affiliation[T.yes]    -0.3257      0.391     -0.832      0.408      -1.106       0.454\n",
      "region[T.NE]          -0.2127      0.304     -0.699      0.487      -0.819       0.394\n",
      "region[T.S]            0.2592      0.273      0.949      0.346      -0.286       0.804\n",
      "region[T.W]            0.8981      0.334      2.692      0.009       0.233       1.563\n",
      "length                 0.2379      0.072      3.289      0.002       0.094       0.382\n",
      "age                    0.0041      0.023      0.182      0.856      -0.041       0.049\n",
      "cultures               0.0499      0.011      4.488      0.000       0.028       0.072\n",
      "xray                   0.0155      0.006      2.646      0.010       0.004       0.027\n",
      "bed                   -0.0038      0.004     -1.050      0.297      -0.011       0.003\n",
      "patient                0.0029      0.004      0.690      0.492      -0.006       0.011\n",
      "nurse                  0.0037      0.002      2.035      0.046    7.37e-05       0.007\n",
      "facilities             0.0122      0.013      0.971      0.335      -0.013       0.037\n",
      "==============================================================================\n",
      "Omnibus:                        2.082   Durbin-Watson:                   2.235\n",
      "Prob(Omnibus):                  0.353   Jarque-Bera (JB):                1.425\n",
      "Skew:                           0.004   Prob(JB):                        0.491\n",
      "Kurtosis:                       2.362   Cond. No.                     6.00e+03\n",
      "==============================================================================\n",
      "\n",
      "Notes:\n",
      "[1] Standard Errors assume that the covariance matrix of the errors is correctly specified.\n",
      "[2] The condition number is large,  6e+03. This might indicate that there are\n",
      "strong multicollinearity or other numerical problems.\n",
      "\n",
      "MSE = 0.7429874029059934\n"
     ]
    }
   ],
   "source": [
    "# Fit the full MLR model.\n",
    "# Type your code here:\n",
    "mlr2 = smf.ols('risk ~ length + age + cultures + xray + bed  + patient + nurse + facilities + affiliation + region', train_df2).fit()\n",
    "print(mlr2.summary())\n",
    "print('\\nMSE =', mlr2.mse_resid)"
   ]
  },
  {
   "cell_type": "markdown",
   "id": "dbacb290-6ed3-47ae-b7ab-7f0ae5f1a807",
   "metadata": {},
   "source": [
    "### Remove age as p value is the highest"
   ]
  },
  {
   "cell_type": "code",
   "execution_count": 425,
   "id": "4209b04c-2f65-40d3-b34f-047cf5570098",
   "metadata": {},
   "outputs": [
    {
     "name": "stdout",
     "output_type": "stream",
     "text": [
      "                            OLS Regression Results                            \n",
      "==============================================================================\n",
      "Dep. Variable:                   risk   R-squared:                       0.647\n",
      "Model:                            OLS   Adj. R-squared:                  0.593\n",
      "Method:                 Least Squares   F-statistic:                     11.99\n",
      "Date:                Fri, 07 Feb 2025   Prob (F-statistic):           2.14e-12\n",
      "Time:                        22:06:18   Log-Likelihood:                -99.672\n",
      "No. Observations:                  84   AIC:                             223.3\n",
      "Df Residuals:                      72   BIC:                             252.5\n",
      "Df Model:                          11                                         \n",
      "Covariance Type:            nonrobust                                         \n",
      "======================================================================================\n",
      "                         coef    std err          t      P>|t|      [0.025      0.975]\n",
      "--------------------------------------------------------------------------------------\n",
      "Intercept             -0.9574      0.739     -1.295      0.199      -2.431       0.516\n",
      "affiliation[T.yes]    -0.3315      0.387     -0.856      0.395      -1.104       0.441\n",
      "region[T.NE]          -0.2067      0.300     -0.688      0.494      -0.806       0.392\n",
      "region[T.S]            0.2645      0.270      0.980      0.330      -0.274       0.802\n",
      "region[T.W]            0.9070      0.328      2.767      0.007       0.254       1.560\n",
      "length                 0.2419      0.069      3.529      0.001       0.105       0.379\n",
      "cultures               0.0493      0.011      4.651      0.000       0.028       0.070\n",
      "xray                   0.0155      0.006      2.660      0.010       0.004       0.027\n",
      "bed                   -0.0038      0.004     -1.061      0.292      -0.011       0.003\n",
      "patient                0.0029      0.004      0.686      0.495      -0.005       0.011\n",
      "nurse                  0.0037      0.002      2.076      0.042       0.000       0.007\n",
      "facilities             0.0124      0.012      0.994      0.323      -0.012       0.037\n",
      "==============================================================================\n",
      "Omnibus:                        2.307   Durbin-Watson:                   2.235\n",
      "Prob(Omnibus):                  0.315   Jarque-Bera (JB):                1.513\n",
      "Skew:                           0.009   Prob(JB):                        0.469\n",
      "Kurtosis:                       2.343   Cond. No.                     3.65e+03\n",
      "==============================================================================\n",
      "\n",
      "Notes:\n",
      "[1] Standard Errors assume that the covariance matrix of the errors is correctly specified.\n",
      "[2] The condition number is large, 3.65e+03. This might indicate that there are\n",
      "strong multicollinearity or other numerical problems.\n",
      "\n",
      "MSE = 0.7330114814539014\n"
     ]
    }
   ],
   "source": [
    "# Fit the full MLR model.\n",
    "# Type your code here:\n",
    "mlr2 = smf.ols('risk ~ length + cultures + xray + bed  + patient + nurse + facilities + affiliation + region', train_df2).fit()\n",
    "print(mlr2.summary())\n",
    "print('\\nMSE =', mlr2.mse_resid)"
   ]
  },
  {
   "cell_type": "markdown",
   "id": "0728d93f-66b8-4bdc-9abe-db451477353e",
   "metadata": {},
   "source": [
    "### Remove patient as p value is the highest"
   ]
  },
  {
   "cell_type": "code",
   "execution_count": 430,
   "id": "bc27907c-d943-4dc6-be20-bca70728b407",
   "metadata": {},
   "outputs": [
    {
     "name": "stdout",
     "output_type": "stream",
     "text": [
      "                            OLS Regression Results                            \n",
      "==============================================================================\n",
      "Dep. Variable:                   risk   R-squared:                       0.645\n",
      "Model:                            OLS   Adj. R-squared:                  0.596\n",
      "Method:                 Least Squares   F-statistic:                     13.24\n",
      "Date:                Fri, 07 Feb 2025   Prob (F-statistic):           7.05e-13\n",
      "Time:                        22:08:23   Log-Likelihood:                -99.945\n",
      "No. Observations:                  84   AIC:                             221.9\n",
      "Df Residuals:                      73   BIC:                             248.6\n",
      "Df Model:                          10                                         \n",
      "Covariance Type:            nonrobust                                         \n",
      "======================================================================================\n",
      "                         coef    std err          t      P>|t|      [0.025      0.975]\n",
      "--------------------------------------------------------------------------------------\n",
      "Intercept             -1.1098      0.703     -1.580      0.119      -2.510       0.290\n",
      "affiliation[T.yes]    -0.3157      0.385     -0.820      0.415      -1.083       0.452\n",
      "region[T.NE]          -0.1624      0.292     -0.556      0.580      -0.745       0.420\n",
      "region[T.S]            0.3066      0.262      1.171      0.245      -0.215       0.828\n",
      "region[T.W]            0.8848      0.325      2.723      0.008       0.237       1.532\n",
      "length                 0.2581      0.064      4.023      0.000       0.130       0.386\n",
      "cultures               0.0477      0.010      4.632      0.000       0.027       0.068\n",
      "xray                   0.0159      0.006      2.753      0.007       0.004       0.027\n",
      "bed                   -0.0016      0.002     -1.027      0.308      -0.005       0.002\n",
      "nurse                  0.0039      0.002      2.198      0.031       0.000       0.007\n",
      "facilities             0.0106      0.012      0.873      0.386      -0.014       0.035\n",
      "==============================================================================\n",
      "Omnibus:                        2.499   Durbin-Watson:                   2.210\n",
      "Prob(Omnibus):                  0.287   Jarque-Bera (JB):                1.592\n",
      "Skew:                           0.033   Prob(JB):                        0.451\n",
      "Kurtosis:                       2.329   Cond. No.                     2.96e+03\n",
      "==============================================================================\n",
      "\n",
      "Notes:\n",
      "[1] Standard Errors assume that the covariance matrix of the errors is correctly specified.\n",
      "[2] The condition number is large, 2.96e+03. This might indicate that there are\n",
      "strong multicollinearity or other numerical problems.\n",
      "\n",
      "MSE = 0.7276979222907892\n"
     ]
    }
   ],
   "source": [
    "# Fit the full MLR model.\n",
    "# Type your code here:\n",
    "mlr2 = smf.ols('risk ~ length + cultures + xray + bed + nurse + facilities + affiliation + region', train_df2).fit()\n",
    "print(mlr2.summary())\n",
    "print('\\nMSE =', mlr2.mse_resid)"
   ]
  },
  {
   "cell_type": "markdown",
   "id": "9204586e-9382-4415-8cdb-45a64efae8f1",
   "metadata": {},
   "source": [
    "### Remove affiliation as p value is the highest"
   ]
  },
  {
   "cell_type": "code",
   "execution_count": 434,
   "id": "168ace71-3f3c-40f6-b94c-1139dd280b71",
   "metadata": {},
   "outputs": [
    {
     "name": "stdout",
     "output_type": "stream",
     "text": [
      "                            OLS Regression Results                            \n",
      "==============================================================================\n",
      "Dep. Variable:                   risk   R-squared:                       0.641\n",
      "Model:                            OLS   Adj. R-squared:                  0.598\n",
      "Method:                 Least Squares   F-statistic:                     14.70\n",
      "Date:                Fri, 07 Feb 2025   Prob (F-statistic):           2.42e-13\n",
      "Time:                        22:09:58   Log-Likelihood:                -100.33\n",
      "No. Observations:                  84   AIC:                             220.7\n",
      "Df Residuals:                      74   BIC:                             245.0\n",
      "Df Model:                           9                                         \n",
      "Covariance Type:            nonrobust                                         \n",
      "================================================================================\n",
      "                   coef    std err          t      P>|t|      [0.025      0.975]\n",
      "--------------------------------------------------------------------------------\n",
      "Intercept       -1.0375      0.695     -1.492      0.140      -2.423       0.348\n",
      "region[T.NE]    -0.1036      0.283     -0.366      0.715      -0.667       0.460\n",
      "region[T.S]      0.3390      0.258      1.313      0.193      -0.176       0.854\n",
      "region[T.W]      0.8716      0.324      2.691      0.009       0.226       1.517\n",
      "length           0.2506      0.063      3.956      0.000       0.124       0.377\n",
      "cultures         0.0462      0.010      4.569      0.000       0.026       0.066\n",
      "xray             0.0165      0.006      2.888      0.005       0.005       0.028\n",
      "bed             -0.0020      0.001     -1.316      0.192      -0.005       0.001\n",
      "nurse            0.0039      0.002      2.181      0.032       0.000       0.007\n",
      "facilities       0.0106      0.012      0.879      0.382      -0.013       0.035\n",
      "==============================================================================\n",
      "Omnibus:                        2.429   Durbin-Watson:                   2.226\n",
      "Prob(Omnibus):                  0.297   Jarque-Bera (JB):                1.562\n",
      "Skew:                          -0.023   Prob(JB):                        0.458\n",
      "Kurtosis:                       2.334   Cond. No.                     2.93e+03\n",
      "==============================================================================\n",
      "\n",
      "Notes:\n",
      "[1] Standard Errors assume that the covariance matrix of the errors is correctly specified.\n",
      "[2] The condition number is large, 2.93e+03. This might indicate that there are\n",
      "strong multicollinearity or other numerical problems.\n",
      "\n",
      "MSE = 0.7244688505074728\n"
     ]
    }
   ],
   "source": [
    "# Fit the full MLR model.\n",
    "# Type your code here:\n",
    "mlr2 = smf.ols('risk ~ length + cultures + xray + bed + nurse + facilities + region', train_df2).fit()\n",
    "print(mlr2.summary())\n",
    "print('\\nMSE =', mlr2.mse_resid)"
   ]
  },
  {
   "cell_type": "markdown",
   "id": "111384cd-4413-428b-9a38-f7a587ac99c4",
   "metadata": {},
   "source": [
    "### Remove region as p value is the highest"
   ]
  },
  {
   "cell_type": "code",
   "execution_count": 438,
   "id": "3512dbdb-63dc-4dc2-a337-85058e45d5f1",
   "metadata": {},
   "outputs": [
    {
     "name": "stdout",
     "output_type": "stream",
     "text": [
      "                            OLS Regression Results                            \n",
      "==============================================================================\n",
      "Dep. Variable:                   risk   R-squared:                       0.597\n",
      "Model:                            OLS   Adj. R-squared:                  0.566\n",
      "Method:                 Least Squares   F-statistic:                     19.01\n",
      "Date:                Fri, 07 Feb 2025   Prob (F-statistic):           1.89e-13\n",
      "Time:                        22:11:08   Log-Likelihood:                -105.23\n",
      "No. Observations:                  84   AIC:                             224.5\n",
      "Df Residuals:                      77   BIC:                             241.5\n",
      "Df Model:                           6                                         \n",
      "Covariance Type:            nonrobust                                         \n",
      "==============================================================================\n",
      "                 coef    std err          t      P>|t|      [0.025      0.975]\n",
      "------------------------------------------------------------------------------\n",
      "Intercept      0.0291      0.581      0.050      0.960      -1.129       1.187\n",
      "length         0.1856      0.058      3.201      0.002       0.070       0.301\n",
      "cultures       0.0415      0.010      4.018      0.000       0.021       0.062\n",
      "xray           0.0166      0.006      2.841      0.006       0.005       0.028\n",
      "bed           -0.0016      0.002     -1.051      0.297      -0.005       0.001\n",
      "nurse          0.0042      0.002      2.306      0.024       0.001       0.008\n",
      "facilities     0.0036      0.012      0.298      0.767      -0.021       0.028\n",
      "==============================================================================\n",
      "Omnibus:                        1.285   Durbin-Watson:                   2.330\n",
      "Prob(Omnibus):                  0.526   Jarque-Bera (JB):                1.251\n",
      "Skew:                           0.286   Prob(JB):                        0.535\n",
      "Kurtosis:                       2.827   Cond. No.                     2.28e+03\n",
      "==============================================================================\n",
      "\n",
      "Notes:\n",
      "[1] Standard Errors assume that the covariance matrix of the errors is correctly specified.\n",
      "[2] The condition number is large, 2.28e+03. This might indicate that there are\n",
      "strong multicollinearity or other numerical problems.\n",
      "\n",
      "MSE = 0.7824027267058979\n"
     ]
    }
   ],
   "source": [
    "# Fit the full MLR model.\n",
    "# Type your code here:\n",
    "mlr2 = smf.ols('risk ~ length + cultures + xray + bed + nurse + facilities', train_df2).fit()\n",
    "print(mlr2.summary())\n",
    "print('\\nMSE =', mlr2.mse_resid)"
   ]
  },
  {
   "cell_type": "markdown",
   "id": "94db0ffd-5425-4901-86b3-f25d884cce2d",
   "metadata": {},
   "source": [
    "### Remove Facilities as p value is the highest"
   ]
  },
  {
   "cell_type": "code",
   "execution_count": 442,
   "id": "7b51c084-4f73-4586-8f57-8bb1d1bc84c5",
   "metadata": {},
   "outputs": [
    {
     "name": "stdout",
     "output_type": "stream",
     "text": [
      "                            OLS Regression Results                            \n",
      "==============================================================================\n",
      "Dep. Variable:                   risk   R-squared:                       0.596\n",
      "Model:                            OLS   Adj. R-squared:                  0.571\n",
      "Method:                 Least Squares   F-statistic:                     23.06\n",
      "Date:                Fri, 07 Feb 2025   Prob (F-statistic):           3.87e-14\n",
      "Time:                        22:12:42   Log-Likelihood:                -105.28\n",
      "No. Observations:                  84   AIC:                             222.6\n",
      "Df Residuals:                      78   BIC:                             237.1\n",
      "Df Model:                           5                                         \n",
      "Covariance Type:            nonrobust                                         \n",
      "==============================================================================\n",
      "                 coef    std err          t      P>|t|      [0.025      0.975]\n",
      "------------------------------------------------------------------------------\n",
      "Intercept      0.1019      0.524      0.194      0.846      -0.942       1.146\n",
      "length         0.1860      0.058      3.228      0.002       0.071       0.301\n",
      "cultures       0.0411      0.010      4.037      0.000       0.021       0.061\n",
      "xray           0.0170      0.006      2.975      0.004       0.006       0.028\n",
      "bed           -0.0014      0.001     -1.025      0.308      -0.004       0.001\n",
      "nurse          0.0042      0.002      2.365      0.021       0.001       0.008\n",
      "==============================================================================\n",
      "Omnibus:                        1.306   Durbin-Watson:                   2.335\n",
      "Prob(Omnibus):                  0.521   Jarque-Bera (JB):                1.293\n",
      "Skew:                           0.288   Prob(JB):                        0.524\n",
      "Kurtosis:                       2.804   Cond. No.                     2.05e+03\n",
      "==============================================================================\n",
      "\n",
      "Notes:\n",
      "[1] Standard Errors assume that the covariance matrix of the errors is correctly specified.\n",
      "[2] The condition number is large, 2.05e+03. This might indicate that there are\n",
      "strong multicollinearity or other numerical problems.\n",
      "\n",
      "MSE = 0.7732617460617711\n"
     ]
    }
   ],
   "source": [
    "# Fit the full MLR model.\n",
    "# Type your code here:\n",
    "mlr2 = smf.ols('risk ~ length + cultures + xray + bed + nurse ', train_df2).fit()\n",
    "print(mlr2.summary())\n",
    "print('\\nMSE =', mlr2.mse_resid)"
   ]
  },
  {
   "cell_type": "markdown",
   "id": "b5a80bd4-8f3d-4538-84fa-9bc9f37f42a0",
   "metadata": {},
   "source": [
    "#### Extract residuals"
   ]
  },
  {
   "cell_type": "code",
   "execution_count": 452,
   "id": "3f586713-6ca1-4f16-92c7-1650bc85e2de",
   "metadata": {},
   "outputs": [
    {
     "name": "stdout",
     "output_type": "stream",
     "text": [
      "27    -0.087490\n",
      "6      0.429544\n",
      "5      0.345194\n",
      "60     0.326246\n",
      "109    0.954122\n",
      "         ...   \n",
      "28    -0.470542\n",
      "30    -0.576430\n",
      "87    -0.207273\n",
      "46     1.341583\n",
      "13    -0.699532\n",
      "Length: 84, dtype: float64\n"
     ]
    }
   ],
   "source": [
    "res2 = mlr2.resid\n",
    "print(res2)"
   ]
  },
  {
   "cell_type": "markdown",
   "id": "8eba99db-58eb-4ab7-83ee-c289b72f7d4b",
   "metadata": {},
   "source": [
    "### Normality"
   ]
  },
  {
   "cell_type": "code",
   "execution_count": 454,
   "id": "ff4f400f-de0d-4d94-b9b4-ae67a3683137",
   "metadata": {},
   "outputs": [
    {
     "data": {
      "image/png": "[encoded data removed]",
      "text/plain": [
       "<Figure size 800x500 with 1 Axes>"
      ]
     },
     "metadata": {},
     "output_type": "display_data"
    },
    {
     "data": {
      "image/png": "[encoded data removed]",
      "text/plain": [
       "<Figure size 640x480 with 1 Axes>"
      ]
     },
     "metadata": {},
     "output_type": "display_data"
    },
    {
     "name": "stdout",
     "output_type": "stream",
     "text": [
      "\n",
      "Jarque_bera = (1.2290852851068674, 0.5408882180018308, 0.1381879167569914, 2.4758019239202618)\n",
      "\n",
      "Omnibus = NormaltestResult(statistic=1.3656756413507516, pvalue=0.5051813422124692)\n"
     ]
    }
   ],
   "source": [
    "# Plot histogram of residuals\n",
    "plt.figure(figsize=(8, 5))\n",
    "sns.histplot(res2, bins=30, kde=True, color=\"blue\")\n",
    "# Labels and title\n",
    "plt.xlabel(\"Residuals\")\n",
    "plt.ylabel(\"Frequency\")\n",
    "plt.title(\"Histogram of Residuals Variable selection\")\n",
    "# Show the plot\n",
    "plt.show()\n",
    "\n",
    "# Create a Q-Q plot\n",
    "sm.qqplot(mlr2.resid, line='45', fit=True)\n",
    "# Add labels & title\n",
    "plt.title(\"Q-Q Plot of Residuals Variable Selection\")\n",
    "plt.xlabel(\"Theoretical Quantiles\")\n",
    "plt.ylabel(\"Sample Quantiles\")\n",
    "# Show the plot\n",
    "plt.show()\n",
    "\n",
    "# JB test\n",
    "x2 = sm.stats.jarque_bera(res2)\n",
    "print('\\nJarque_bera =',x2)\n",
    "# omnibus test\n",
    "y2 = sm.stats.omni_normtest(res2)\n",
    "print('\\nOmnibus =',y2)"
   ]
  },
  {
   "cell_type": "markdown",
   "id": "d4184026-22db-4c18-9b4d-05904a532b2f",
   "metadata": {},
   "source": [
    "### Check Assumption: Constant Variance (Homoscedasticity)"
   ]
  },
  {
   "cell_type": "code",
   "execution_count": 462,
   "id": "efdb4409-79b9-4fb4-93ab-4891757c8863",
   "metadata": {},
   "outputs": [
    {
     "data": {
      "image/png": "[encoded data removed]",
      "text/plain": [
       "<Figure size 640x480 with 1 Axes>"
      ]
     },
     "metadata": {},
     "output_type": "display_data"
    },
    {
     "data": {
      "text/plain": [
       "(9.091755891419282,\n",
       " 0.05884649493319248,\n",
       " 2.397095019277884,\n",
       " 0.05716555342784641)"
      ]
     },
     "execution_count": 462,
     "metadata": {},
     "output_type": "execute_result"
    }
   ],
   "source": [
    "# Residual plot\n",
    "sns.residplot(x=mlr2.fittedvalues, y=res, lowess=True, line_kws={'color': 'red'})\n",
    "# Labels and title\n",
    "plt.xlabel(\"Fitted Values\")\n",
    "plt.ylabel(\"Residuals\")\n",
    "plt.title(\"Residual Plot Variable selection\")\n",
    "\n",
    "# Show the plot\n",
    "plt.show()\n",
    "# Perform the Breusch-Pagan test on residuals.\n",
    "sm.stats.het_breuschpagan(res2, mlr2.model.exog)\n"
   ]
  },
  {
   "cell_type": "markdown",
   "id": "de15828a-4877-4f91-8159-0378415f9cb0",
   "metadata": {},
   "source": [
    "### Check Assumption: Independence"
   ]
  },
  {
   "cell_type": "code",
   "execution_count": 466,
   "id": "a3017b0d-e87c-45de-b2fb-53540f93775f",
   "metadata": {},
   "outputs": [
    {
     "data": {
      "text/plain": [
       "2.259071296375148"
      ]
     },
     "execution_count": 466,
     "metadata": {},
     "output_type": "execute_result"
    }
   ],
   "source": [
    "sm.stats.durbin_watson(res1)"
   ]
  },
  {
   "cell_type": "markdown",
   "id": "dcbccd4c-a61a-45f1-90b9-03483e8aca55",
   "metadata": {},
   "source": [
    "### Check Assumption: Multicollinearity"
   ]
  },
  {
   "cell_type": "code",
   "execution_count": 470,
   "id": "947967c6-a62f-4d50-9df0-07b97d6c115b",
   "metadata": {},
   "outputs": [
    {
     "data": {
      "text/plain": [
       "1661.151347863449"
      ]
     },
     "execution_count": 470,
     "metadata": {},
     "output_type": "execute_result"
    }
   ],
   "source": [
    "# To extract condition number, type: modelname.condition_number\n",
    "mlr2.condition_number"
   ]
  },
  {
   "cell_type": "code",
   "execution_count": 474,
   "id": "d5bbb052-237e-4cb2-8d4c-832c2edc22dc",
   "metadata": {},
   "outputs": [
    {
     "name": "stdout",
     "output_type": "stream",
     "text": [
      "Intercept 19.617230985534512\n",
      "cultures 1.2835765931099816\n",
      "xray 1.2367029044274185\n",
      "bed 5.6979002041029405\n",
      "nurse 5.796506985486136\n"
     ]
    }
   ],
   "source": [
    "for i in range(5):\n",
    "    predictor = mlr2.model.exog_names[i]\n",
    "    Vif = vif(mlr2.model.exog,i)\n",
    "    print(predictor, Vif)"
   ]
  },
  {
   "cell_type": "markdown",
   "id": "f412dcda-e072-4c38-9324-8e1d4feb1b40",
   "metadata": {},
   "source": [
    "### Make prediction"
   ]
  },
  {
   "cell_type": "code",
   "execution_count": 477,
   "id": "2d98eb79-74e6-4c7e-bce6-9cb6ec67dd70",
   "metadata": {},
   "outputs": [],
   "source": [
    "# Make predictions on the test set\n",
    "test_df2['predicted_risk'] = mlr2.predict(test_df2)"
   ]
  },
  {
   "cell_type": "code",
   "execution_count": 479,
   "id": "b42ae9c4-3bde-44a8-a507-24553f7502aa",
   "metadata": {},
   "outputs": [
    {
     "name": "stdout",
     "output_type": "stream",
     "text": [
      "52     5.099278\n",
      "34     4.009988\n",
      "31     4.453799\n",
      "92     3.120869\n",
      "19     5.517364\n",
      "110    3.731299\n",
      "10     7.556979\n",
      "75     3.874427\n",
      "25     5.827237\n",
      "2      3.398610\n",
      "90     3.778964\n",
      "47     3.985442\n",
      "56     3.125182\n",
      "9      4.628379\n",
      "54     2.957846\n",
      "66     4.371681\n",
      "18     3.639072\n",
      "73     5.363416\n",
      "44     4.094126\n",
      "96     3.659645\n",
      "88     4.622609\n",
      "22     4.850505\n",
      "57     4.489750\n",
      "112    4.280383\n",
      "63     4.203277\n",
      "8      4.762584\n",
      "51     4.078464\n",
      "39     2.622043\n",
      "61     4.624378\n",
      "Name: predicted_risk, dtype: float64\n"
     ]
    }
   ],
   "source": [
    "print(test_df2['predicted_risk'])"
   ]
  },
  {
   "cell_type": "code",
   "execution_count": 481,
   "id": "f5cebc80-355c-48fd-89a9-9fa734ad5f8f",
   "metadata": {},
   "outputs": [
    {
     "data": {
      "text/html": [
       "<div>\n",
       "<style scoped>\n",
       "    .dataframe tbody tr th:only-of-type {\n",
       "        vertical-align: middle;\n",
       "    }\n",
       "\n",
       "    .dataframe tbody tr th {\n",
       "        vertical-align: top;\n",
       "    }\n",
       "\n",
       "    .dataframe thead th {\n",
       "        text-align: right;\n",
       "    }\n",
       "</style>\n",
       "<table border=\"1\" class=\"dataframe\">\n",
       "  <thead>\n",
       "    <tr style=\"text-align: right;\">\n",
       "      <th></th>\n",
       "      <th>mean</th>\n",
       "      <th>mean_se</th>\n",
       "      <th>mean_ci_lower</th>\n",
       "      <th>mean_ci_upper</th>\n",
       "      <th>obs_ci_lower</th>\n",
       "      <th>obs_ci_upper</th>\n",
       "    </tr>\n",
       "  </thead>\n",
       "  <tbody>\n",
       "    <tr>\n",
       "      <th>0</th>\n",
       "      <td>5.099278</td>\n",
       "      <td>0.266331</td>\n",
       "      <td>4.569160</td>\n",
       "      <td>5.629396</td>\n",
       "      <td>3.173179</td>\n",
       "      <td>7.025377</td>\n",
       "    </tr>\n",
       "    <tr>\n",
       "      <th>1</th>\n",
       "      <td>4.009988</td>\n",
       "      <td>0.122327</td>\n",
       "      <td>3.766502</td>\n",
       "      <td>4.253474</td>\n",
       "      <td>2.142338</td>\n",
       "      <td>5.877639</td>\n",
       "    </tr>\n",
       "    <tr>\n",
       "      <th>2</th>\n",
       "      <td>4.453799</td>\n",
       "      <td>0.213195</td>\n",
       "      <td>4.029445</td>\n",
       "      <td>4.878153</td>\n",
       "      <td>2.554086</td>\n",
       "      <td>6.353512</td>\n",
       "    </tr>\n",
       "    <tr>\n",
       "      <th>3</th>\n",
       "      <td>3.120869</td>\n",
       "      <td>0.200118</td>\n",
       "      <td>2.722543</td>\n",
       "      <td>3.519194</td>\n",
       "      <td>1.226800</td>\n",
       "      <td>5.014937</td>\n",
       "    </tr>\n",
       "    <tr>\n",
       "      <th>4</th>\n",
       "      <td>5.517364</td>\n",
       "      <td>0.359548</td>\n",
       "      <td>4.801701</td>\n",
       "      <td>6.233026</td>\n",
       "      <td>3.532167</td>\n",
       "      <td>7.502561</td>\n",
       "    </tr>\n",
       "    <tr>\n",
       "      <th>5</th>\n",
       "      <td>3.731299</td>\n",
       "      <td>0.167627</td>\n",
       "      <td>3.397645</td>\n",
       "      <td>4.064953</td>\n",
       "      <td>1.849769</td>\n",
       "      <td>5.612830</td>\n",
       "    </tr>\n",
       "    <tr>\n",
       "      <th>6</th>\n",
       "      <td>7.556979</td>\n",
       "      <td>0.452674</td>\n",
       "      <td>6.655955</td>\n",
       "      <td>8.458003</td>\n",
       "      <td>5.497689</td>\n",
       "      <td>9.616270</td>\n",
       "    </tr>\n",
       "    <tr>\n",
       "      <th>7</th>\n",
       "      <td>3.874427</td>\n",
       "      <td>0.151839</td>\n",
       "      <td>3.572199</td>\n",
       "      <td>4.176656</td>\n",
       "      <td>1.998215</td>\n",
       "      <td>5.750640</td>\n",
       "    </tr>\n",
       "    <tr>\n",
       "      <th>8</th>\n",
       "      <td>5.827237</td>\n",
       "      <td>0.324675</td>\n",
       "      <td>5.180987</td>\n",
       "      <td>6.473488</td>\n",
       "      <td>3.865995</td>\n",
       "      <td>7.788480</td>\n",
       "    </tr>\n",
       "    <tr>\n",
       "      <th>9</th>\n",
       "      <td>3.398610</td>\n",
       "      <td>0.149491</td>\n",
       "      <td>3.101056</td>\n",
       "      <td>3.696165</td>\n",
       "      <td>1.523145</td>\n",
       "      <td>5.274076</td>\n",
       "    </tr>\n",
       "    <tr>\n",
       "      <th>10</th>\n",
       "      <td>3.778964</td>\n",
       "      <td>0.156248</td>\n",
       "      <td>3.467961</td>\n",
       "      <td>4.089968</td>\n",
       "      <td>1.901318</td>\n",
       "      <td>5.656611</td>\n",
       "    </tr>\n",
       "    <tr>\n",
       "      <th>11</th>\n",
       "      <td>3.985442</td>\n",
       "      <td>0.414391</td>\n",
       "      <td>3.160618</td>\n",
       "      <td>4.810266</td>\n",
       "      <td>1.958334</td>\n",
       "      <td>6.012550</td>\n",
       "    </tr>\n",
       "    <tr>\n",
       "      <th>12</th>\n",
       "      <td>3.125182</td>\n",
       "      <td>0.187963</td>\n",
       "      <td>2.751051</td>\n",
       "      <td>3.499313</td>\n",
       "      <td>1.236053</td>\n",
       "      <td>5.014311</td>\n",
       "    </tr>\n",
       "    <tr>\n",
       "      <th>13</th>\n",
       "      <td>4.628379</td>\n",
       "      <td>0.203966</td>\n",
       "      <td>4.222395</td>\n",
       "      <td>5.034363</td>\n",
       "      <td>2.732685</td>\n",
       "      <td>6.524073</td>\n",
       "    </tr>\n",
       "    <tr>\n",
       "      <th>14</th>\n",
       "      <td>2.957846</td>\n",
       "      <td>0.191507</td>\n",
       "      <td>2.576661</td>\n",
       "      <td>3.339031</td>\n",
       "      <td>1.067307</td>\n",
       "      <td>4.848384</td>\n",
       "    </tr>\n",
       "    <tr>\n",
       "      <th>15</th>\n",
       "      <td>4.371681</td>\n",
       "      <td>0.172312</td>\n",
       "      <td>4.028704</td>\n",
       "      <td>4.714659</td>\n",
       "      <td>2.488475</td>\n",
       "      <td>6.254888</td>\n",
       "    </tr>\n",
       "    <tr>\n",
       "      <th>16</th>\n",
       "      <td>3.639072</td>\n",
       "      <td>0.164016</td>\n",
       "      <td>3.312606</td>\n",
       "      <td>3.965537</td>\n",
       "      <td>1.758803</td>\n",
       "      <td>5.519341</td>\n",
       "    </tr>\n",
       "    <tr>\n",
       "      <th>17</th>\n",
       "      <td>5.363416</td>\n",
       "      <td>0.234462</td>\n",
       "      <td>4.896731</td>\n",
       "      <td>5.830101</td>\n",
       "      <td>3.453801</td>\n",
       "      <td>7.273030</td>\n",
       "    </tr>\n",
       "    <tr>\n",
       "      <th>18</th>\n",
       "      <td>4.094126</td>\n",
       "      <td>0.129443</td>\n",
       "      <td>3.836476</td>\n",
       "      <td>4.351775</td>\n",
       "      <td>2.224576</td>\n",
       "      <td>5.963675</td>\n",
       "    </tr>\n",
       "    <tr>\n",
       "      <th>19</th>\n",
       "      <td>3.659645</td>\n",
       "      <td>0.142219</td>\n",
       "      <td>3.376565</td>\n",
       "      <td>3.942724</td>\n",
       "      <td>1.786421</td>\n",
       "      <td>5.532869</td>\n",
       "    </tr>\n",
       "    <tr>\n",
       "      <th>20</th>\n",
       "      <td>4.622609</td>\n",
       "      <td>0.146255</td>\n",
       "      <td>4.331495</td>\n",
       "      <td>4.913723</td>\n",
       "      <td>2.748154</td>\n",
       "      <td>6.497063</td>\n",
       "    </tr>\n",
       "    <tr>\n",
       "      <th>21</th>\n",
       "      <td>4.850505</td>\n",
       "      <td>0.129573</td>\n",
       "      <td>4.592597</td>\n",
       "      <td>5.108413</td>\n",
       "      <td>2.980920</td>\n",
       "      <td>6.720090</td>\n",
       "    </tr>\n",
       "    <tr>\n",
       "      <th>22</th>\n",
       "      <td>4.489750</td>\n",
       "      <td>0.231602</td>\n",
       "      <td>4.028758</td>\n",
       "      <td>4.950741</td>\n",
       "      <td>2.581518</td>\n",
       "      <td>6.397981</td>\n",
       "    </tr>\n",
       "    <tr>\n",
       "      <th>23</th>\n",
       "      <td>4.280383</td>\n",
       "      <td>0.173485</td>\n",
       "      <td>3.935069</td>\n",
       "      <td>4.625696</td>\n",
       "      <td>2.396749</td>\n",
       "      <td>6.164016</td>\n",
       "    </tr>\n",
       "    <tr>\n",
       "      <th>24</th>\n",
       "      <td>4.203277</td>\n",
       "      <td>0.205734</td>\n",
       "      <td>3.793774</td>\n",
       "      <td>4.612780</td>\n",
       "      <td>2.306827</td>\n",
       "      <td>6.099728</td>\n",
       "    </tr>\n",
       "    <tr>\n",
       "      <th>25</th>\n",
       "      <td>4.762584</td>\n",
       "      <td>0.137751</td>\n",
       "      <td>4.488397</td>\n",
       "      <td>5.036771</td>\n",
       "      <td>2.890684</td>\n",
       "      <td>6.634485</td>\n",
       "    </tr>\n",
       "    <tr>\n",
       "      <th>26</th>\n",
       "      <td>4.078464</td>\n",
       "      <td>0.312626</td>\n",
       "      <td>3.456197</td>\n",
       "      <td>4.700731</td>\n",
       "      <td>2.124993</td>\n",
       "      <td>6.031935</td>\n",
       "    </tr>\n",
       "    <tr>\n",
       "      <th>27</th>\n",
       "      <td>2.622043</td>\n",
       "      <td>0.206778</td>\n",
       "      <td>2.210462</td>\n",
       "      <td>3.033624</td>\n",
       "      <td>0.725142</td>\n",
       "      <td>4.518943</td>\n",
       "    </tr>\n",
       "    <tr>\n",
       "      <th>28</th>\n",
       "      <td>4.624378</td>\n",
       "      <td>0.270218</td>\n",
       "      <td>4.086523</td>\n",
       "      <td>5.162234</td>\n",
       "      <td>2.696135</td>\n",
       "      <td>6.552621</td>\n",
       "    </tr>\n",
       "  </tbody>\n",
       "</table>\n",
       "</div>"
      ],
      "text/plain": [
       "        mean   mean_se  mean_ci_lower  mean_ci_upper  obs_ci_lower  \\\n",
       "0   5.099278  0.266331       4.569160       5.629396      3.173179   \n",
       "1   4.009988  0.122327       3.766502       4.253474      2.142338   \n",
       "2   4.453799  0.213195       4.029445       4.878153      2.554086   \n",
       "3   3.120869  0.200118       2.722543       3.519194      1.226800   \n",
       "4   5.517364  0.359548       4.801701       6.233026      3.532167   \n",
       "5   3.731299  0.167627       3.397645       4.064953      1.849769   \n",
       "6   7.556979  0.452674       6.655955       8.458003      5.497689   \n",
       "7   3.874427  0.151839       3.572199       4.176656      1.998215   \n",
       "8   5.827237  0.324675       5.180987       6.473488      3.865995   \n",
       "9   3.398610  0.149491       3.101056       3.696165      1.523145   \n",
       "10  3.778964  0.156248       3.467961       4.089968      1.901318   \n",
       "11  3.985442  0.414391       3.160618       4.810266      1.958334   \n",
       "12  3.125182  0.187963       2.751051       3.499313      1.236053   \n",
       "13  4.628379  0.203966       4.222395       5.034363      2.732685   \n",
       "14  2.957846  0.191507       2.576661       3.339031      1.067307   \n",
       "15  4.371681  0.172312       4.028704       4.714659      2.488475   \n",
       "16  3.639072  0.164016       3.312606       3.965537      1.758803   \n",
       "17  5.363416  0.234462       4.896731       5.830101      3.453801   \n",
       "18  4.094126  0.129443       3.836476       4.351775      2.224576   \n",
       "19  3.659645  0.142219       3.376565       3.942724      1.786421   \n",
       "20  4.622609  0.146255       4.331495       4.913723      2.748154   \n",
       "21  4.850505  0.129573       4.592597       5.108413      2.980920   \n",
       "22  4.489750  0.231602       4.028758       4.950741      2.581518   \n",
       "23  4.280383  0.173485       3.935069       4.625696      2.396749   \n",
       "24  4.203277  0.205734       3.793774       4.612780      2.306827   \n",
       "25  4.762584  0.137751       4.488397       5.036771      2.890684   \n",
       "26  4.078464  0.312626       3.456197       4.700731      2.124993   \n",
       "27  2.622043  0.206778       2.210462       3.033624      0.725142   \n",
       "28  4.624378  0.270218       4.086523       5.162234      2.696135   \n",
       "\n",
       "    obs_ci_upper  \n",
       "0       7.025377  \n",
       "1       5.877639  \n",
       "2       6.353512  \n",
       "3       5.014937  \n",
       "4       7.502561  \n",
       "5       5.612830  \n",
       "6       9.616270  \n",
       "7       5.750640  \n",
       "8       7.788480  \n",
       "9       5.274076  \n",
       "10      5.656611  \n",
       "11      6.012550  \n",
       "12      5.014311  \n",
       "13      6.524073  \n",
       "14      4.848384  \n",
       "15      6.254888  \n",
       "16      5.519341  \n",
       "17      7.273030  \n",
       "18      5.963675  \n",
       "19      5.532869  \n",
       "20      6.497063  \n",
       "21      6.720090  \n",
       "22      6.397981  \n",
       "23      6.164016  \n",
       "24      6.099728  \n",
       "25      6.634485  \n",
       "26      6.031935  \n",
       "27      4.518943  \n",
       "28      6.552621  "
      ]
     },
     "execution_count": 481,
     "metadata": {},
     "output_type": "execute_result"
    }
   ],
   "source": [
    "mlr2.get_prediction(test_df2).summary_frame()"
   ]
  },
  {
   "cell_type": "code",
   "execution_count": 487,
   "id": "cbdd852c-c2ab-4c10-8480-5d9294f79f79",
   "metadata": {},
   "outputs": [
    {
     "name": "stdout",
     "output_type": "stream",
     "text": [
      "\n",
      " Variable selection Test R² = 0.5425604665194501\n",
      "\n",
      " Variable selection adjusted R² = 0.5193989711533463\n",
      "\n",
      " Variable selection MSPE = 1.4978470615308646\n"
     ]
    }
   ],
   "source": [
    "test2_r2 = mlr2.rsquared\n",
    "print('\\n Variable selection Test R² =',test2_r2)\n",
    "adjusted2_r2 = mlr2.rsquared_adj\n",
    "print('\\n Variable selection adjusted R² =',adjusted2_r2)\n",
    "mspe2 = mean_squared_error(test_df2['risk'], test_df2['predicted_risk']) \n",
    "print('\\n Variable selection MSPE =',mspe2)"
   ]
  },
  {
   "cell_type": "markdown",
   "id": "6dc296ac-6d85-4a86-acda-f5b2af8afe51",
   "metadata": {},
   "source": [
    "## Transformation of variables"
   ]
  },
  {
   "cell_type": "code",
   "execution_count": 501,
   "id": "8c4579b8-a80a-483a-902c-0e2823cde285",
   "metadata": {},
   "outputs": [],
   "source": [
    "train_df3 = train_df\n",
    "test_df3 = test_df"
   ]
  },
  {
   "cell_type": "code",
   "execution_count": 536,
   "id": "90a5af46-75fd-49e3-9033-d8ebf5a4c5bf",
   "metadata": {},
   "outputs": [
    {
     "name": "stderr",
     "output_type": "stream",
     "text": [
      "/opt/anaconda3/lib/python3.12/site-packages/pandas/core/arraylike.py:399: RuntimeWarning: overflow encountered in exp\n",
      "  result = getattr(ufunc, method)(*inputs, **kwargs)\n"
     ]
    },
    {
     "data": {
      "image/png": "[encoded data removed]",
      "text/plain": [
       "<Figure size 1500x1000 with 5 Axes>"
      ]
     },
     "metadata": {},
     "output_type": "display_data"
    }
   ],
   "source": [
    "fig = plt.figure(figsize=(15,10))\n",
    "\n",
    "# Untransformed predictor\n",
    "ax = fig.add_subplot(231)\n",
    "plt.scatter(train_df3.patient, train_df3.risk)\n",
    "plt.xlabel('patient')\n",
    "plt.ylabel('risk')\n",
    "\n",
    "# X' = ln(X)\n",
    "ax = fig.add_subplot(232)\n",
    "plt.scatter(np.log(train_df3.patient), train_df3.risk)\n",
    "plt.xlabel('ln of patient')\n",
    "plt.ylabel('risk')\n",
    "\n",
    "# X' = 1/X\n",
    "ax = fig.add_subplot(233)\n",
    "plt.scatter(1/train_df3.patient, train_df3.risk)\n",
    "plt.xlabel('1/patient')\n",
    "plt.ylabel('risk')\n",
    "\n",
    "# X' = sqrt(X)\n",
    "ax = fig.add_subplot(235)\n",
    "plt.scatter(np.sqrt(train_df3.patient), train_df3.risk)\n",
    "plt.xlabel('sqrt of patient')\n",
    "plt.ylabel('risk')\n",
    "\n",
    "# X' = exp(x)\n",
    "ax = fig.add_subplot(236)\n",
    "plt.scatter(np.exp(train_df3.patient), train_df3.risk)\n",
    "plt.xlabel('exp of patient')\n",
    "plt.ylabel('risk');\n",
    "\n",
    "plt.show()"
   ]
  },
  {
   "cell_type": "code",
   "execution_count": 538,
   "id": "949d5e4f-9e91-4fdc-b36b-1ec42119095a",
   "metadata": {},
   "outputs": [
    {
     "name": "stdout",
     "output_type": "stream",
     "text": [
      "Transformation: x   Pearson's r: 0.379   p-value: 0.00038\n",
      "Transformation: ln(x)   Pearson's r: 0.443   p-value: 0.00002\n",
      "Transformation: 1/x   Pearson's r: -0.439   p-value: 0.00003\n",
      "Transformation: sqrt(x)   Pearson's r: 0.418   p-value: 0.00008\n",
      "Transformation: exp(x)   Pearson's r: 0.207   p-value: 0.05930\n"
     ]
    }
   ],
   "source": [
    "import numpy as np\n",
    "from scipy.stats import pearsonr\n",
    "\n",
    "# Define transformations with safeguards\n",
    "transformations = {\n",
    "    'x': lambda x: x, \n",
    "    'ln(x)': lambda x: np.log(np.where(x > 0, x, np.nan)),  # Avoid log(0) errors\n",
    "    '1/x': lambda x: np.where(x != 0, 1 / x, np.nan),       # Avoid division by zero\n",
    "    'sqrt(x)': lambda x: np.where(x >= 0, np.sqrt(x), np.nan),  # sqrt only for non-negative\n",
    "    'exp(x)': lambda x: np.exp(np.clip(x, a_min=None, a_max=50))  # Prevent overflow\n",
    "}\n",
    "\n",
    "# Compute Pearson correlation between transformed 'patient' and 'bed'\n",
    "for tf_name, tf_func in transformations.items():\n",
    "    transformed_x = tf_func(train_df['patient'])\n",
    "\n",
    "    # Remove NaN or Inf values before computing correlation\n",
    "    valid_idx = ~np.isnan(transformed_x) & ~np.isinf(transformed_x) & ~np.isnan(train_df['risk'])\n",
    "    \n",
    "    if np.sum(valid_idx) > 2:  # Ensure at least 3 valid data points for correlation\n",
    "        r_coef, r_pval = pearsonr(transformed_x[valid_idx], train_df['risk'][valid_idx])\n",
    "        print(f\"Transformation: {tf_name}   Pearson's r: {r_coef:.3f}   p-value: {r_pval:.5f}\")\n",
    "    else:\n",
    "        print(f\"Transformation: {tf_name}   Skipped (not enough valid data)\")\n",
    "\n"
   ]
  },
  {
   "cell_type": "code",
   "execution_count": 540,
   "id": "90711670-399b-4807-aa95-12559a0bb461",
   "metadata": {},
   "outputs": [
    {
     "data": {
      "image/png": "[encoded data removed]",
      "text/plain": [
       "<Figure size 1500x1000 with 5 Axes>"
      ]
     },
     "metadata": {},
     "output_type": "display_data"
    }
   ],
   "source": [
    "fig = plt.figure(figsize=(15,10))\n",
    "\n",
    "# Untransformed predictor\n",
    "ax = fig.add_subplot(231)\n",
    "plt.scatter(train_df3.nurse, train_df3.risk)\n",
    "plt.xlabel('nurse')\n",
    "plt.ylabel('risk')\n",
    "\n",
    "# X' = ln(X)\n",
    "ax = fig.add_subplot(232)\n",
    "plt.scatter(np.log(train_df3.nurse), train_df3.risk)\n",
    "plt.xlabel('ln of nurse')\n",
    "plt.ylabel('risk')\n",
    "\n",
    "# X' = 1/X\n",
    "ax = fig.add_subplot(233)\n",
    "plt.scatter(1/train_df3.nurse, train_df3.risk)\n",
    "plt.xlabel('1/nurse')\n",
    "plt.ylabel('risk')\n",
    "\n",
    "# X' = sqrt(X)\n",
    "ax = fig.add_subplot(235)\n",
    "plt.scatter(np.sqrt(train_df3.nurse), train_df3.risk)\n",
    "plt.xlabel('sqrt of nurse')\n",
    "plt.ylabel('risk')\n",
    "\n",
    "# X' = exp(x)\n",
    "ax = fig.add_subplot(236)\n",
    "plt.scatter(np.exp(train_df3.nurse), train_df3.risk)\n",
    "plt.xlabel('exp of nurse')\n",
    "plt.ylabel('risk');\n",
    "\n",
    "plt.show()"
   ]
  },
  {
   "cell_type": "code",
   "execution_count": 542,
   "id": "82db53d6-b557-4ed7-9f24-28b8e75d2e7c",
   "metadata": {},
   "outputs": [
    {
     "name": "stdout",
     "output_type": "stream",
     "text": [
      "Transformation: x   Pearson's r: 0.414   p-value: 0.00009\n",
      "Transformation: ln(x)   Pearson's r: 0.521   p-value: 0.00000\n",
      "Transformation: 1/x   Pearson's r: -0.548   p-value: 0.00000\n",
      "Transformation: sqrt(x)   Pearson's r: 0.473   p-value: 0.00001\n",
      "Transformation: exp(x)   Pearson's r: 0.257   p-value: 0.01830\n"
     ]
    }
   ],
   "source": [
    "import numpy as np\n",
    "from scipy.stats import pearsonr\n",
    "\n",
    "# Define transformations with safeguards\n",
    "transformations = {\n",
    "    'x': lambda x: x, \n",
    "    'ln(x)': lambda x: np.log(np.where(x > 0, x, np.nan)),  # Avoid log(0) errors\n",
    "    '1/x': lambda x: np.where(x != 0, 1 / x, np.nan),       # Avoid division by zero\n",
    "    'sqrt(x)': lambda x: np.where(x >= 0, np.sqrt(x), np.nan),  # sqrt only for non-negative\n",
    "    'exp(x)': lambda x: np.exp(np.clip(x, a_min=None, a_max=50))  # Prevent overflow\n",
    "}\n",
    "\n",
    "# Compute Pearson correlation between transformed 'patient' and 'bed'\n",
    "for tf_name, tf_func in transformations.items():\n",
    "    transformed_x = tf_func(train_df['nurse'])\n",
    "\n",
    "    # Remove NaN or Inf values before computing correlation\n",
    "    valid_idx = ~np.isnan(transformed_x) & ~np.isinf(transformed_x) & ~np.isnan(train_df['risk'])\n",
    "    \n",
    "    if np.sum(valid_idx) > 2:  # Ensure at least 3 valid data points for correlation\n",
    "        r_coef, r_pval = pearsonr(transformed_x[valid_idx], train_df['risk'][valid_idx])\n",
    "        print(f\"Transformation: {tf_name}   Pearson's r: {r_coef:.3f}   p-value: {r_pval:.5f}\")\n",
    "    else:\n",
    "        print(f\"Transformation: {tf_name}   Skipped (not enough valid data)\")\n",
    "\n"
   ]
  },
  {
   "cell_type": "code",
   "execution_count": 550,
   "id": "5f723bd8-e677-4c4a-832f-214a3a6bcd9d",
   "metadata": {},
   "outputs": [
    {
     "name": "stdout",
     "output_type": "stream",
     "text": [
      "                            OLS Regression Results                            \n",
      "==============================================================================\n",
      "Dep. Variable:                   risk   R-squared:                       0.671\n",
      "Model:                            OLS   Adj. R-squared:                  0.616\n",
      "Method:                 Least Squares   F-statistic:                     12.07\n",
      "Date:                Fri, 07 Feb 2025   Prob (F-statistic):           7.33e-13\n",
      "Time:                        23:30:50   Log-Likelihood:                -96.685\n",
      "No. Observations:                  84   AIC:                             219.4\n",
      "Df Residuals:                      71   BIC:                             251.0\n",
      "Df Model:                          12                                         \n",
      "Covariance Type:            nonrobust                                         \n",
      "======================================================================================\n",
      "                         coef    std err          t      P>|t|      [0.025      0.975]\n",
      "--------------------------------------------------------------------------------------\n",
      "Intercept             -4.8018      1.909     -2.515      0.014      -8.608      -0.995\n",
      "affiliation[T.yes]    -0.1358      0.384     -0.353      0.725      -0.902       0.630\n",
      "region[T.NE]          -0.2293      0.288     -0.797      0.428      -0.803       0.345\n",
      "region[T.S]            0.1395      0.266      0.526      0.601      -0.390       0.669\n",
      "region[T.W]            0.9975      0.325      3.072      0.003       0.350       1.645\n",
      "length                 0.1995      0.070      2.866      0.005       0.061       0.338\n",
      "age                    0.0189      0.023      0.834      0.407      -0.026       0.064\n",
      "cultures               0.0493      0.010      4.716      0.000       0.028       0.070\n",
      "xray                   0.0161      0.006      2.856      0.006       0.005       0.027\n",
      "bed                   -0.0034      0.002     -1.993      0.050      -0.007    1.93e-06\n",
      "I(np.log(patient))     0.8993      0.376      2.389      0.020       0.149       1.650\n",
      "nurse                  0.0028      0.002      1.543      0.127      -0.001       0.006\n",
      "facilities            -0.0028      0.013     -0.213      0.832      -0.029       0.023\n",
      "==============================================================================\n",
      "Omnibus:                        1.253   Durbin-Watson:                   2.233\n",
      "Prob(Omnibus):                  0.535   Jarque-Bera (JB):                1.182\n",
      "Skew:                           0.147   Prob(JB):                        0.554\n",
      "Kurtosis:                       2.499   Cond. No.                     8.10e+03\n",
      "==============================================================================\n",
      "\n",
      "Notes:\n",
      "[1] Standard Errors assume that the covariance matrix of the errors is correctly specified.\n",
      "[2] The condition number is large, 8.1e+03. This might indicate that there are\n",
      "strong multicollinearity or other numerical problems.\n",
      "\n",
      "MSE (Training) = 0.692317304376888\n"
     ]
    }
   ],
   "source": [
    "mlr3 = smf.ols('risk ~ length + age + cultures + xray + bed + I(np.log(patient)) + nurse + facilities + affiliation + region', \n",
    "               data=train_df3).fit()\n",
    "# Print model summary\n",
    "print(mlr3.summary())\n",
    "\n",
    "# Compute MSE on training set (residual MSE)\n",
    "print('\\nMSE (Training) =', mlr3.mse_resid)"
   ]
  },
  {
   "cell_type": "code",
   "execution_count": 560,
   "id": "1e1ccf95-22cd-4c14-a855-48175a75820b",
   "metadata": {},
   "outputs": [
    {
     "name": "stdout",
     "output_type": "stream",
     "text": [
      "                            OLS Regression Results                            \n",
      "==============================================================================\n",
      "Dep. Variable:                   risk   R-squared:                       0.672\n",
      "Model:                            OLS   Adj. R-squared:                  0.617\n",
      "Method:                 Least Squares   F-statistic:                     12.13\n",
      "Date:                Fri, 07 Feb 2025   Prob (F-statistic):           6.60e-13\n",
      "Time:                        23:33:20   Log-Likelihood:                -96.552\n",
      "No. Observations:                  84   AIC:                             219.1\n",
      "Df Residuals:                      71   BIC:                             250.7\n",
      "Df Model:                          12                                         \n",
      "Covariance Type:            nonrobust                                         \n",
      "======================================================================================\n",
      "                         coef    std err          t      P>|t|      [0.025      0.975]\n",
      "--------------------------------------------------------------------------------------\n",
      "Intercept             -4.0303      1.495     -2.695      0.009      -7.012      -1.049\n",
      "affiliation[T.yes]    -0.1709      0.379     -0.451      0.654      -0.927       0.585\n",
      "region[T.NE]          -0.2002      0.292     -0.686      0.495      -0.783       0.382\n",
      "region[T.S]            0.2188      0.264      0.829      0.410      -0.307       0.745\n",
      "region[T.W]            0.8369      0.322      2.596      0.011       0.194       1.480\n",
      "length                 0.2176      0.068      3.181      0.002       0.081       0.354\n",
      "age                    0.0127      0.022      0.586      0.560      -0.031       0.056\n",
      "cultures               0.0473      0.011      4.409      0.000       0.026       0.069\n",
      "xray                   0.0135      0.006      2.385      0.020       0.002       0.025\n",
      "bed                   -0.0026      0.003     -0.753      0.454      -0.009       0.004\n",
      "patient                0.0018      0.004      0.436      0.664      -0.006       0.010\n",
      "I(np.log(nurse))       0.8426      0.268      3.146      0.002       0.308       1.377\n",
      "facilities            -0.0046      0.014     -0.338      0.736      -0.032       0.022\n",
      "==============================================================================\n",
      "Omnibus:                        0.978   Durbin-Watson:                   2.314\n",
      "Prob(Omnibus):                  0.613   Jarque-Bera (JB):                0.941\n",
      "Skew:                           0.066   Prob(JB):                        0.625\n",
      "Kurtosis:                       2.499   Cond. No.                     6.60e+03\n",
      "==============================================================================\n",
      "\n",
      "Notes:\n",
      "[1] Standard Errors assume that the covariance matrix of the errors is correctly specified.\n",
      "[2] The condition number is large, 6.6e+03. This might indicate that there are\n",
      "strong multicollinearity or other numerical problems.\n",
      "\n",
      "MSE (Training) = 0.6901299895017182\n"
     ]
    }
   ],
   "source": [
    "mlr5 = smf.ols('risk ~ length + age + cultures + xray + bed + patient + I(np.log(nurse)) + facilities + affiliation + region', \n",
    "               data=train_df3).fit()\n",
    "# Print model summary\n",
    "print(mlr5.summary())\n",
    "\n",
    "# Compute MSE on training set (residual MSE)\n",
    "print('\\nMSE (Training) =', mlr5.mse_resid)"
   ]
  },
  {
   "cell_type": "code",
   "execution_count": 578,
   "id": "2ec4cda3-6098-4458-b079-400b7515c619",
   "metadata": {},
   "outputs": [
    {
     "name": "stdout",
     "output_type": "stream",
     "text": [
      "                            OLS Regression Results                            \n",
      "==============================================================================\n",
      "Dep. Variable:                   risk   R-squared:                       0.679\n",
      "Model:                            OLS   Adj. R-squared:                  0.625\n",
      "Method:                 Least Squares   F-statistic:                     12.51\n",
      "Date:                Fri, 07 Feb 2025   Prob (F-statistic):           3.32e-13\n",
      "Time:                        23:39:05   Log-Likelihood:                -95.685\n",
      "No. Observations:                  84   AIC:                             217.4\n",
      "Df Residuals:                      71   BIC:                             249.0\n",
      "Df Model:                          12                                         \n",
      "Covariance Type:            nonrobust                                         \n",
      "======================================================================================\n",
      "                         coef    std err          t      P>|t|      [0.025      0.975]\n",
      "--------------------------------------------------------------------------------------\n",
      "Intercept             -5.6343      1.831     -3.077      0.003      -9.286      -1.983\n",
      "affiliation[T.yes]    -0.0864      0.378     -0.228      0.820      -0.841       0.668\n",
      "region[T.NE]          -0.2017      0.283     -0.714      0.478      -0.765       0.362\n",
      "region[T.S]            0.1608      0.263      0.612      0.542      -0.363       0.685\n",
      "region[T.W]            0.9188      0.326      2.818      0.006       0.269       1.569\n",
      "length                 0.1980      0.068      2.916      0.005       0.063       0.333\n",
      "age                    0.0202      0.022      0.906      0.368      -0.024       0.065\n",
      "cultures               0.0478      0.010      4.603      0.000       0.027       0.068\n",
      "xray                   0.0144      0.006      2.559      0.013       0.003       0.026\n",
      "bed                   -0.0022      0.001     -1.529      0.131      -0.005       0.001\n",
      "I(np.log(patient))     0.5595      0.432      1.294      0.200      -0.302       1.421\n",
      "I(np.log(nurse))       0.6386      0.313      2.037      0.045       0.014       1.264\n",
      "facilities            -0.0098      0.013     -0.733      0.466      -0.036       0.017\n",
      "==============================================================================\n",
      "Omnibus:                        0.749   Durbin-Watson:                   2.294\n",
      "Prob(Omnibus):                  0.688   Jarque-Bera (JB):                0.860\n",
      "Skew:                           0.146   Prob(JB):                        0.650\n",
      "Kurtosis:                       2.599   Cond. No.                     6.58e+03\n",
      "==============================================================================\n",
      "\n",
      "Notes:\n",
      "[1] Standard Errors assume that the covariance matrix of the errors is correctly specified.\n",
      "[2] The condition number is large, 6.58e+03. This might indicate that there are\n",
      "strong multicollinearity or other numerical problems.\n",
      "\n",
      "MSE (Training) = 0.6760191137954394\n"
     ]
    }
   ],
   "source": [
    "mlr5 = smf.ols('risk ~ length + age + cultures + xray + bed + I(np.log(patient)) + I(np.log(nurse)) + facilities + affiliation + region', \n",
    "               data=train_df3).fit()\n",
    "# Print model summary\n",
    "print(mlr5.summary())\n",
    "\n",
    "# Compute MSE on training set (residual MSE)\n",
    "print('\\nMSE (Training) =', mlr5.mse_resid)"
   ]
  },
  {
   "cell_type": "code",
   "execution_count": 562,
   "id": "b5e05c19-81b4-4268-9ca3-c4232a971860",
   "metadata": {},
   "outputs": [
    {
     "name": "stdout",
     "output_type": "stream",
     "text": [
      "27     0.251069\n",
      "6      0.014587\n",
      "5      0.393552\n",
      "60     0.278853\n",
      "109    0.985391\n",
      "         ...   \n",
      "28    -0.766069\n",
      "30    -0.408977\n",
      "87    -0.124559\n",
      "46    -0.432094\n",
      "13    -0.178232\n",
      "Length: 84, dtype: float64\n"
     ]
    }
   ],
   "source": [
    "res5 = mlr5.resid\n",
    "print(res5)"
   ]
  },
  {
   "cell_type": "code",
   "execution_count": 564,
   "id": "60b411e5-8ca7-439c-9346-3b75354cd676",
   "metadata": {},
   "outputs": [
    {
     "data": {
      "image/png": "[encoded data removed]",
      "text/plain": [
       "<Figure size 800x500 with 1 Axes>"
      ]
     },
     "metadata": {},
     "output_type": "display_data"
    },
    {
     "data": {
      "image/png": "[encoded data removed]",
      "text/plain": [
       "<Figure size 640x480 with 1 Axes>"
      ]
     },
     "metadata": {},
     "output_type": "display_data"
    },
    {
     "name": "stdout",
     "output_type": "stream",
     "text": [
      "\n",
      "Jarque_bera = (0.9407016040792057, 0.624783054664771, 0.06581785084364036, 2.4985581500103224)\n",
      "\n",
      "Omnibus = NormaltestResult(statistic=0.9780869471956344, pvalue=0.6132126678535487)\n"
     ]
    }
   ],
   "source": [
    "# Plot histogram of residuals\n",
    "plt.figure(figsize=(8, 5))\n",
    "sns.histplot(res5, bins=30, kde=True, color=\"blue\")\n",
    "# Labels and title\n",
    "plt.xlabel(\"Residuals\")\n",
    "plt.ylabel(\"Frequency\")\n",
    "plt.title(\"Histogram of Residuals Variable selection\")\n",
    "# Show the plot\n",
    "plt.show()\n",
    "\n",
    "# Create a Q-Q plot\n",
    "sm.qqplot(mlr5.resid, line='45', fit=True)\n",
    "# Add labels & title\n",
    "plt.title(\"Q-Q Plot of Residuals Variable Selection\")\n",
    "plt.xlabel(\"Theoretical Quantiles\")\n",
    "plt.ylabel(\"Sample Quantiles\")\n",
    "# Show the plot\n",
    "plt.show()\n",
    "\n",
    "# JB test\n",
    "x5 = sm.stats.jarque_bera(res5)\n",
    "print('\\nJarque_bera =',x5)\n",
    "# omnibus test\n",
    "y5 = sm.stats.omni_normtest(res5)\n",
    "print('\\nOmnibus =',y5)"
   ]
  },
  {
   "cell_type": "code",
   "execution_count": 566,
   "id": "e992ebac-e653-4c4a-a467-c04028b9c45e",
   "metadata": {},
   "outputs": [
    {
     "data": {
      "image/png": "[encoded data removed]",
      "text/plain": [
       "<Figure size 640x480 with 1 Axes>"
      ]
     },
     "metadata": {},
     "output_type": "display_data"
    },
    {
     "data": {
      "text/plain": [
       "(17.998276059029386,\n",
       " 0.11574287564618864,\n",
       " 1.6134396748661328,\n",
       " 0.10734715981237089)"
      ]
     },
     "execution_count": 566,
     "metadata": {},
     "output_type": "execute_result"
    }
   ],
   "source": [
    "# Residual plot\n",
    "sns.residplot(x=mlr5.fittedvalues, y=res, lowess=True, line_kws={'color': 'red'})\n",
    "# Labels and title\n",
    "plt.xlabel(\"Fitted Values\")\n",
    "plt.ylabel(\"Residuals\")\n",
    "plt.title(\"Residual Plot Variable selection\")\n",
    "\n",
    "# Show the plot\n",
    "plt.show()\n",
    "# Perform the Breusch-Pagan test on residuals.\n",
    "sm.stats.het_breuschpagan(res5, mlr5.model.exog)\n"
   ]
  },
  {
   "cell_type": "code",
   "execution_count": 568,
   "id": "f785975c-d6fd-44ae-99c1-7b5e68ddbf2e",
   "metadata": {},
   "outputs": [
    {
     "data": {
      "text/plain": [
       "2.3135871750286903"
      ]
     },
     "execution_count": 568,
     "metadata": {},
     "output_type": "execute_result"
    }
   ],
   "source": [
    "sm.stats.durbin_watson(res5)"
   ]
  },
  {
   "cell_type": "code",
   "execution_count": 570,
   "id": "a37650dc-83b0-4292-abb6-d55c1c3faef0",
   "metadata": {},
   "outputs": [
    {
     "data": {
      "text/plain": [
       "6598.4228807167565"
      ]
     },
     "execution_count": 570,
     "metadata": {},
     "output_type": "execute_result"
    }
   ],
   "source": [
    "# To extract condition number, type: modelname.condition_number\n",
    "mlr5.condition_number"
   ]
  },
  {
   "cell_type": "code",
   "execution_count": 576,
   "id": "4f1a30c1-9cf2-4ed1-b536-bafedb8177ce",
   "metadata": {},
   "outputs": [
    {
     "name": "stdout",
     "output_type": "stream",
     "text": [
      "Intercept 272.1393060207914\n",
      "affiliation[T.yes] 2.1440776667455634\n",
      "region[T.NE] 2.006739614143615\n",
      "region[T.S] 1.9148494584239246\n",
      "region[T.W] 1.5492677709581437\n",
      "length 2.4505015085172874\n",
      "age 1.2586502622620697\n",
      "cultures 1.622444958332707\n",
      "xray 1.5766422735128038\n",
      "bed 45.466333996488906\n",
      "patient 44.050837777208734\n",
      "I(np.log(nurse)) 5.178835617184913\n",
      "facilities 4.179595346026331\n"
     ]
    }
   ],
   "source": [
    "for i in range(13):\n",
    "    predictor = mlr5.model.exog_names[i]\n",
    "    Vif = vif(mlr5.model.exog,i)\n",
    "    print(predictor, Vif)"
   ]
  },
  {
   "cell_type": "code",
   "execution_count": 580,
   "id": "6c89d692-e9a3-43bd-9a70-7be8419dbf30",
   "metadata": {},
   "outputs": [],
   "source": [
    "# Make predictions on the test set\n",
    "test_df3['predicted_risk'] = mlr5.predict(test_df3)"
   ]
  },
  {
   "cell_type": "code",
   "execution_count": 582,
   "id": "bf8d0798-8e90-4dd4-895f-183843237d3c",
   "metadata": {},
   "outputs": [
    {
     "name": "stdout",
     "output_type": "stream",
     "text": [
      "52     5.342435\n",
      "34     4.164592\n",
      "31     4.732429\n",
      "92     2.035258\n",
      "19     4.282319\n",
      "110    4.234994\n",
      "10     5.665191\n",
      "75     3.914540\n",
      "25     4.584559\n",
      "2      3.353983\n",
      "90     3.423122\n",
      "47     4.215314\n",
      "56     2.929503\n",
      "9      4.026936\n",
      "54     2.160405\n",
      "66     4.340868\n",
      "18     3.659003\n",
      "73     5.029156\n",
      "44     3.806155\n",
      "96     3.836548\n",
      "88     4.411976\n",
      "22     4.568356\n",
      "57     5.054845\n",
      "112    3.253766\n",
      "63     4.002330\n",
      "8      4.657268\n",
      "51     3.538785\n",
      "39     2.113595\n",
      "61     4.557158\n",
      "Name: predicted_risk, dtype: float64\n"
     ]
    }
   ],
   "source": [
    "print(test_df3['predicted_risk'])"
   ]
  },
  {
   "cell_type": "code",
   "execution_count": 584,
   "id": "bae584d2-7c6d-4f2a-9271-9bd1e00e1ecc",
   "metadata": {},
   "outputs": [
    {
     "data": {
      "text/html": [
       "<div>\n",
       "<style scoped>\n",
       "    .dataframe tbody tr th:only-of-type {\n",
       "        vertical-align: middle;\n",
       "    }\n",
       "\n",
       "    .dataframe tbody tr th {\n",
       "        vertical-align: top;\n",
       "    }\n",
       "\n",
       "    .dataframe thead th {\n",
       "        text-align: right;\n",
       "    }\n",
       "</style>\n",
       "<table border=\"1\" class=\"dataframe\">\n",
       "  <thead>\n",
       "    <tr style=\"text-align: right;\">\n",
       "      <th></th>\n",
       "      <th>mean</th>\n",
       "      <th>mean_se</th>\n",
       "      <th>mean_ci_lower</th>\n",
       "      <th>mean_ci_upper</th>\n",
       "      <th>obs_ci_lower</th>\n",
       "      <th>obs_ci_upper</th>\n",
       "    </tr>\n",
       "  </thead>\n",
       "  <tbody>\n",
       "    <tr>\n",
       "      <th>0</th>\n",
       "      <td>5.342435</td>\n",
       "      <td>0.363725</td>\n",
       "      <td>4.617188</td>\n",
       "      <td>6.067682</td>\n",
       "      <td>3.549753</td>\n",
       "      <td>7.135116</td>\n",
       "    </tr>\n",
       "    <tr>\n",
       "      <th>1</th>\n",
       "      <td>4.164592</td>\n",
       "      <td>0.253609</td>\n",
       "      <td>3.658911</td>\n",
       "      <td>4.670274</td>\n",
       "      <td>2.448948</td>\n",
       "      <td>5.880237</td>\n",
       "    </tr>\n",
       "    <tr>\n",
       "      <th>2</th>\n",
       "      <td>4.732429</td>\n",
       "      <td>0.300084</td>\n",
       "      <td>4.134079</td>\n",
       "      <td>5.330779</td>\n",
       "      <td>2.987222</td>\n",
       "      <td>6.477636</td>\n",
       "    </tr>\n",
       "    <tr>\n",
       "      <th>3</th>\n",
       "      <td>2.035258</td>\n",
       "      <td>0.468813</td>\n",
       "      <td>1.100471</td>\n",
       "      <td>2.970044</td>\n",
       "      <td>0.148051</td>\n",
       "      <td>3.922464</td>\n",
       "    </tr>\n",
       "    <tr>\n",
       "      <th>4</th>\n",
       "      <td>4.282319</td>\n",
       "      <td>0.599718</td>\n",
       "      <td>3.086514</td>\n",
       "      <td>5.478123</td>\n",
       "      <td>2.253114</td>\n",
       "      <td>6.311524</td>\n",
       "    </tr>\n",
       "    <tr>\n",
       "      <th>5</th>\n",
       "      <td>4.234994</td>\n",
       "      <td>0.432403</td>\n",
       "      <td>3.372806</td>\n",
       "      <td>5.097182</td>\n",
       "      <td>2.382674</td>\n",
       "      <td>6.087315</td>\n",
       "    </tr>\n",
       "    <tr>\n",
       "      <th>6</th>\n",
       "      <td>5.665191</td>\n",
       "      <td>0.476917</td>\n",
       "      <td>4.714245</td>\n",
       "      <td>6.616136</td>\n",
       "      <td>3.769928</td>\n",
       "      <td>7.560454</td>\n",
       "    </tr>\n",
       "    <tr>\n",
       "      <th>7</th>\n",
       "      <td>3.914540</td>\n",
       "      <td>0.282514</td>\n",
       "      <td>3.351223</td>\n",
       "      <td>4.477856</td>\n",
       "      <td>2.181032</td>\n",
       "      <td>5.648048</td>\n",
       "    </tr>\n",
       "    <tr>\n",
       "      <th>8</th>\n",
       "      <td>4.584559</td>\n",
       "      <td>0.438387</td>\n",
       "      <td>3.710441</td>\n",
       "      <td>5.458678</td>\n",
       "      <td>2.726655</td>\n",
       "      <td>6.442463</td>\n",
       "    </tr>\n",
       "    <tr>\n",
       "      <th>9</th>\n",
       "      <td>3.353983</td>\n",
       "      <td>0.255933</td>\n",
       "      <td>2.843667</td>\n",
       "      <td>3.864300</td>\n",
       "      <td>1.636967</td>\n",
       "      <td>5.071000</td>\n",
       "    </tr>\n",
       "    <tr>\n",
       "      <th>10</th>\n",
       "      <td>3.423122</td>\n",
       "      <td>0.230001</td>\n",
       "      <td>2.964513</td>\n",
       "      <td>3.881731</td>\n",
       "      <td>1.720757</td>\n",
       "      <td>5.125487</td>\n",
       "    </tr>\n",
       "    <tr>\n",
       "      <th>11</th>\n",
       "      <td>4.215314</td>\n",
       "      <td>0.430937</td>\n",
       "      <td>3.356050</td>\n",
       "      <td>5.074578</td>\n",
       "      <td>2.364352</td>\n",
       "      <td>6.066275</td>\n",
       "    </tr>\n",
       "    <tr>\n",
       "      <th>12</th>\n",
       "      <td>2.929503</td>\n",
       "      <td>0.315480</td>\n",
       "      <td>2.300453</td>\n",
       "      <td>3.558553</td>\n",
       "      <td>1.173534</td>\n",
       "      <td>4.685472</td>\n",
       "    </tr>\n",
       "    <tr>\n",
       "      <th>13</th>\n",
       "      <td>4.026936</td>\n",
       "      <td>0.307894</td>\n",
       "      <td>3.413013</td>\n",
       "      <td>4.640860</td>\n",
       "      <td>2.276329</td>\n",
       "      <td>5.777543</td>\n",
       "    </tr>\n",
       "    <tr>\n",
       "      <th>14</th>\n",
       "      <td>2.160405</td>\n",
       "      <td>0.359752</td>\n",
       "      <td>1.443080</td>\n",
       "      <td>2.877730</td>\n",
       "      <td>0.370914</td>\n",
       "      <td>3.949897</td>\n",
       "    </tr>\n",
       "    <tr>\n",
       "      <th>15</th>\n",
       "      <td>4.340868</td>\n",
       "      <td>0.259590</td>\n",
       "      <td>3.823261</td>\n",
       "      <td>4.858475</td>\n",
       "      <td>2.621671</td>\n",
       "      <td>6.060066</td>\n",
       "    </tr>\n",
       "    <tr>\n",
       "      <th>16</th>\n",
       "      <td>3.659003</td>\n",
       "      <td>0.258046</td>\n",
       "      <td>3.144474</td>\n",
       "      <td>4.173533</td>\n",
       "      <td>1.940730</td>\n",
       "      <td>5.377277</td>\n",
       "    </tr>\n",
       "    <tr>\n",
       "      <th>17</th>\n",
       "      <td>5.029156</td>\n",
       "      <td>0.562840</td>\n",
       "      <td>3.906885</td>\n",
       "      <td>6.151427</td>\n",
       "      <td>3.042396</td>\n",
       "      <td>7.015917</td>\n",
       "    </tr>\n",
       "    <tr>\n",
       "      <th>18</th>\n",
       "      <td>3.806155</td>\n",
       "      <td>0.215421</td>\n",
       "      <td>3.376617</td>\n",
       "      <td>4.235693</td>\n",
       "      <td>2.111390</td>\n",
       "      <td>5.500919</td>\n",
       "    </tr>\n",
       "    <tr>\n",
       "      <th>19</th>\n",
       "      <td>3.836548</td>\n",
       "      <td>0.198131</td>\n",
       "      <td>3.441486</td>\n",
       "      <td>4.231610</td>\n",
       "      <td>2.150192</td>\n",
       "      <td>5.522905</td>\n",
       "    </tr>\n",
       "    <tr>\n",
       "      <th>20</th>\n",
       "      <td>4.411976</td>\n",
       "      <td>0.233375</td>\n",
       "      <td>3.946639</td>\n",
       "      <td>4.877313</td>\n",
       "      <td>2.707787</td>\n",
       "      <td>6.116166</td>\n",
       "    </tr>\n",
       "    <tr>\n",
       "      <th>21</th>\n",
       "      <td>4.568356</td>\n",
       "      <td>0.451239</td>\n",
       "      <td>3.668611</td>\n",
       "      <td>5.468101</td>\n",
       "      <td>2.698258</td>\n",
       "      <td>6.438453</td>\n",
       "    </tr>\n",
       "    <tr>\n",
       "      <th>22</th>\n",
       "      <td>5.054845</td>\n",
       "      <td>0.367341</td>\n",
       "      <td>4.322389</td>\n",
       "      <td>5.787302</td>\n",
       "      <td>3.259235</td>\n",
       "      <td>6.850455</td>\n",
       "    </tr>\n",
       "    <tr>\n",
       "      <th>23</th>\n",
       "      <td>3.253766</td>\n",
       "      <td>0.467411</td>\n",
       "      <td>2.321776</td>\n",
       "      <td>4.185756</td>\n",
       "      <td>1.367943</td>\n",
       "      <td>5.139589</td>\n",
       "    </tr>\n",
       "    <tr>\n",
       "      <th>24</th>\n",
       "      <td>4.002330</td>\n",
       "      <td>0.299296</td>\n",
       "      <td>3.405551</td>\n",
       "      <td>4.599108</td>\n",
       "      <td>2.257661</td>\n",
       "      <td>5.746998</td>\n",
       "    </tr>\n",
       "    <tr>\n",
       "      <th>25</th>\n",
       "      <td>4.657268</td>\n",
       "      <td>0.218445</td>\n",
       "      <td>4.221702</td>\n",
       "      <td>5.092834</td>\n",
       "      <td>2.960966</td>\n",
       "      <td>6.353570</td>\n",
       "    </tr>\n",
       "    <tr>\n",
       "      <th>26</th>\n",
       "      <td>3.538785</td>\n",
       "      <td>0.457398</td>\n",
       "      <td>2.626758</td>\n",
       "      <td>4.450811</td>\n",
       "      <td>1.662747</td>\n",
       "      <td>5.414822</td>\n",
       "    </tr>\n",
       "    <tr>\n",
       "      <th>27</th>\n",
       "      <td>2.113595</td>\n",
       "      <td>0.358895</td>\n",
       "      <td>1.397978</td>\n",
       "      <td>2.829212</td>\n",
       "      <td>0.324787</td>\n",
       "      <td>3.902402</td>\n",
       "    </tr>\n",
       "    <tr>\n",
       "      <th>28</th>\n",
       "      <td>4.557158</td>\n",
       "      <td>0.316368</td>\n",
       "      <td>3.926338</td>\n",
       "      <td>5.187978</td>\n",
       "      <td>2.800554</td>\n",
       "      <td>6.313762</td>\n",
       "    </tr>\n",
       "  </tbody>\n",
       "</table>\n",
       "</div>"
      ],
      "text/plain": [
       "        mean   mean_se  mean_ci_lower  mean_ci_upper  obs_ci_lower  \\\n",
       "0   5.342435  0.363725       4.617188       6.067682      3.549753   \n",
       "1   4.164592  0.253609       3.658911       4.670274      2.448948   \n",
       "2   4.732429  0.300084       4.134079       5.330779      2.987222   \n",
       "3   2.035258  0.468813       1.100471       2.970044      0.148051   \n",
       "4   4.282319  0.599718       3.086514       5.478123      2.253114   \n",
       "5   4.234994  0.432403       3.372806       5.097182      2.382674   \n",
       "6   5.665191  0.476917       4.714245       6.616136      3.769928   \n",
       "7   3.914540  0.282514       3.351223       4.477856      2.181032   \n",
       "8   4.584559  0.438387       3.710441       5.458678      2.726655   \n",
       "9   3.353983  0.255933       2.843667       3.864300      1.636967   \n",
       "10  3.423122  0.230001       2.964513       3.881731      1.720757   \n",
       "11  4.215314  0.430937       3.356050       5.074578      2.364352   \n",
       "12  2.929503  0.315480       2.300453       3.558553      1.173534   \n",
       "13  4.026936  0.307894       3.413013       4.640860      2.276329   \n",
       "14  2.160405  0.359752       1.443080       2.877730      0.370914   \n",
       "15  4.340868  0.259590       3.823261       4.858475      2.621671   \n",
       "16  3.659003  0.258046       3.144474       4.173533      1.940730   \n",
       "17  5.029156  0.562840       3.906885       6.151427      3.042396   \n",
       "18  3.806155  0.215421       3.376617       4.235693      2.111390   \n",
       "19  3.836548  0.198131       3.441486       4.231610      2.150192   \n",
       "20  4.411976  0.233375       3.946639       4.877313      2.707787   \n",
       "21  4.568356  0.451239       3.668611       5.468101      2.698258   \n",
       "22  5.054845  0.367341       4.322389       5.787302      3.259235   \n",
       "23  3.253766  0.467411       2.321776       4.185756      1.367943   \n",
       "24  4.002330  0.299296       3.405551       4.599108      2.257661   \n",
       "25  4.657268  0.218445       4.221702       5.092834      2.960966   \n",
       "26  3.538785  0.457398       2.626758       4.450811      1.662747   \n",
       "27  2.113595  0.358895       1.397978       2.829212      0.324787   \n",
       "28  4.557158  0.316368       3.926338       5.187978      2.800554   \n",
       "\n",
       "    obs_ci_upper  \n",
       "0       7.135116  \n",
       "1       5.880237  \n",
       "2       6.477636  \n",
       "3       3.922464  \n",
       "4       6.311524  \n",
       "5       6.087315  \n",
       "6       7.560454  \n",
       "7       5.648048  \n",
       "8       6.442463  \n",
       "9       5.071000  \n",
       "10      5.125487  \n",
       "11      6.066275  \n",
       "12      4.685472  \n",
       "13      5.777543  \n",
       "14      3.949897  \n",
       "15      6.060066  \n",
       "16      5.377277  \n",
       "17      7.015917  \n",
       "18      5.500919  \n",
       "19      5.522905  \n",
       "20      6.116166  \n",
       "21      6.438453  \n",
       "22      6.850455  \n",
       "23      5.139589  \n",
       "24      5.746998  \n",
       "25      6.353570  \n",
       "26      5.414822  \n",
       "27      3.902402  \n",
       "28      6.313762  "
      ]
     },
     "execution_count": 584,
     "metadata": {},
     "output_type": "execute_result"
    }
   ],
   "source": [
    "mlr5.get_prediction(test_df3).summary_frame()"
   ]
  },
  {
   "cell_type": "code",
   "execution_count": 598,
   "id": "c45f3d50-b6ea-4d82-ab18-7ec54c56a02a",
   "metadata": {},
   "outputs": [
    {
     "name": "stdout",
     "output_type": "stream",
     "text": [
      "\n",
      " Transform Test R² = 0.6788704734391664\n",
      "\n",
      " Transform Adjusted R² = 0.6245950604993071\n",
      "\n",
      " Transform MSPE = 0.9682224344774677\n"
     ]
    }
   ],
   "source": [
    "test3_r2 = mlr5.rsquared\n",
    "print('\\n Transform Test R² =',test3_r2)\n",
    "adjusted3_r2 = mlr5.rsquared_adj\n",
    "print('\\n Transform Adjusted R² =',adjusted3_r2)\n",
    "mspe3 = mean_squared_error(test_df3['risk'], test_df3['predicted_risk']) \n",
    "print('\\n Transform MSPE =',mspe3)"
   ]
  },
  {
   "cell_type": "markdown",
   "id": "dee51271-0ccb-406d-8938-14d6164bd78c",
   "metadata": {},
   "source": [
    "## Polynomial regression"
   ]
  },
  {
   "cell_type": "markdown",
   "id": "b880d6de-9675-4ba3-97e8-e03bb70fd56d",
   "metadata": {},
   "source": [
    "### Square the cultures"
   ]
  },
  {
   "cell_type": "code",
   "execution_count": 620,
   "id": "f55c06b1-e15b-487e-9c93-f345ce259665",
   "metadata": {},
   "outputs": [],
   "source": [
    "train_df4 = train_df\n",
    "test_df4 = test_df"
   ]
  },
  {
   "cell_type": "code",
   "execution_count": 622,
   "id": "f85d406c-78f0-4545-acbd-9942769ecf2b",
   "metadata": {},
   "outputs": [
    {
     "name": "stdout",
     "output_type": "stream",
     "text": [
      "                            OLS Regression Results                            \n",
      "==============================================================================\n",
      "Dep. Variable:                   risk   R-squared:                       0.629\n",
      "Model:                            OLS   Adj. R-squared:                  0.566\n",
      "Method:                 Least Squares   F-statistic:                     10.02\n",
      "Date:                Fri, 07 Feb 2025   Prob (F-statistic):           3.94e-11\n",
      "Time:                        23:58:32   Log-Likelihood:                -101.77\n",
      "No. Observations:                  84   AIC:                             229.5\n",
      "Df Residuals:                      71   BIC:                             261.1\n",
      "Df Model:                          12                                         \n",
      "Covariance Type:            nonrobust                                         \n",
      "======================================================================================\n",
      "                         coef    std err          t      P>|t|      [0.025      0.975]\n",
      "--------------------------------------------------------------------------------------\n",
      "Intercept             -0.7204      1.276     -0.565      0.574      -3.264       1.823\n",
      "affiliation[T.yes]    -0.3674      0.404     -0.909      0.366      -1.173       0.438\n",
      "region[T.NE]          -0.1263      0.311     -0.407      0.685      -0.746       0.493\n",
      "region[T.S]            0.2651      0.280      0.946      0.347      -0.294       0.824\n",
      "region[T.W]            0.9544      0.345      2.769      0.007       0.267       1.641\n",
      "length                 0.2270      0.075      3.021      0.004       0.077       0.377\n",
      "age                    0.0004      0.023      0.016      0.987      -0.046       0.046\n",
      "I(cultures ** 2)       0.0008      0.000      3.957      0.000       0.000       0.001\n",
      "xray                   0.0192      0.006      3.312      0.001       0.008       0.031\n",
      "bed                   -0.0062      0.004     -1.582      0.118      -0.014       0.002\n",
      "patient                0.0051      0.005      1.129      0.263      -0.004       0.014\n",
      "nurse                  0.0045      0.002      2.468      0.016       0.001       0.008\n",
      "facilities             0.0139      0.013      1.067      0.289      -0.012       0.040\n",
      "==============================================================================\n",
      "Omnibus:                        1.295   Durbin-Watson:                   2.231\n",
      "Prob(Omnibus):                  0.523   Jarque-Bera (JB):                1.086\n",
      "Skew:                           0.029   Prob(JB):                        0.581\n",
      "Kurtosis:                       2.446   Cond. No.                     9.83e+03\n",
      "==============================================================================\n",
      "\n",
      "Notes:\n",
      "[1] Standard Errors assume that the covariance matrix of the errors is correctly specified.\n",
      "[2] The condition number is large, 9.83e+03. This might indicate that there are\n",
      "strong multicollinearity or other numerical problems.\n",
      "\n",
      "MSE (Training) = 0.781390885277991\n"
     ]
    }
   ],
   "source": [
    "# Fit the OLS regression model using squared transformation\n",
    "mlr6 = smf.ols('risk ~ length + age + I(cultures**2) + xray + bed + patient + nurse + facilities + affiliation + region', \n",
    "               data=train_df4).fit()  # Assuming train_df is the correct dataset\n",
    "\n",
    "# Print model summary\n",
    "print(mlr6.summary())\n",
    "\n",
    "# Compute MSE on training set (residual MSE)\n",
    "print('\\nMSE (Training) =', mlr6.mse_resid)"
   ]
  },
  {
   "cell_type": "code",
   "execution_count": 624,
   "id": "aff4d7e9-6715-43d7-bd2e-2937710441b0",
   "metadata": {},
   "outputs": [
    {
     "name": "stdout",
     "output_type": "stream",
     "text": [
      "27     0.305752\n",
      "6      0.320626\n",
      "5      0.460755\n",
      "60     0.337590\n",
      "109    0.985108\n",
      "         ...   \n",
      "28    -0.505587\n",
      "30    -0.691723\n",
      "87    -0.002756\n",
      "46    -0.550972\n",
      "13     0.052174\n",
      "Length: 84, dtype: float64\n"
     ]
    }
   ],
   "source": [
    "res6 = mlr6.resid\n",
    "print(res6)"
   ]
  },
  {
   "cell_type": "code",
   "execution_count": 626,
   "id": "5167cdfe-031c-45d5-a96d-d4c6940ea787",
   "metadata": {},
   "outputs": [
    {
     "data": {
      "image/png": "[encoded data removed]",
      "text/plain": [
       "<Figure size 800x500 with 1 Axes>"
      ]
     },
     "metadata": {},
     "output_type": "display_data"
    },
    {
     "data": {
      "image/png": "[encoded data removed]",
      "text/plain": [
       "<Figure size 640x480 with 1 Axes>"
      ]
     },
     "metadata": {},
     "output_type": "display_data"
    },
    {
     "name": "stdout",
     "output_type": "stream",
     "text": [
      "\n",
      "Jarque_bera = (1.0857679397136746, 0.5810700450928015, 0.02888123244247619, 2.446029866331064)\n",
      "\n",
      "Omnibus = NormaltestResult(statistic=1.2946560933848563, pvalue=0.5234425238915075)\n"
     ]
    }
   ],
   "source": [
    "# Plot histogram of residuals\n",
    "plt.figure(figsize=(8, 5))\n",
    "sns.histplot(res6, bins=30, kde=True, color=\"blue\")\n",
    "# Labels and title\n",
    "plt.xlabel(\"Residuals\")\n",
    "plt.ylabel(\"Frequency\")\n",
    "plt.title(\"Histogram of Residuals Variable selection\")\n",
    "# Show the plot\n",
    "plt.show()\n",
    "\n",
    "# Create a Q-Q plot\n",
    "sm.qqplot(mlr6.resid, line='45', fit=True)\n",
    "# Add labels & title\n",
    "plt.title(\"Q-Q Plot of Residuals Variable Selection\")\n",
    "plt.xlabel(\"Theoretical Quantiles\")\n",
    "plt.ylabel(\"Sample Quantiles\")\n",
    "# Show the plot\n",
    "plt.show()\n",
    "\n",
    "# JB test\n",
    "x6 = sm.stats.jarque_bera(res6)\n",
    "print('\\nJarque_bera =',x6)\n",
    "# omnibus test\n",
    "y6 = sm.stats.omni_normtest(res6)\n",
    "print('\\nOmnibus =',y6)"
   ]
  },
  {
   "cell_type": "code",
   "execution_count": 628,
   "id": "7f74047d-7d70-4677-96eb-e69a994e5bd5",
   "metadata": {},
   "outputs": [
    {
     "data": {
      "image/png": "[encoded data removed]",
      "text/plain": [
       "<Figure size 640x480 with 1 Axes>"
      ]
     },
     "metadata": {},
     "output_type": "display_data"
    },
    {
     "data": {
      "text/plain": [
       "(16.255590049742317,\n",
       " 0.17980803024086334,\n",
       " 1.4197320172237013,\n",
       " 0.1774508948701176)"
      ]
     },
     "execution_count": 628,
     "metadata": {},
     "output_type": "execute_result"
    }
   ],
   "source": [
    "# Residual plot\n",
    "sns.residplot(x=mlr6.fittedvalues, y=res, lowess=True, line_kws={'color': 'red'})\n",
    "# Labels and title\n",
    "plt.xlabel(\"Fitted Values\")\n",
    "plt.ylabel(\"Residuals\")\n",
    "plt.title(\"Residual Plot Variable selection\")\n",
    "\n",
    "# Show the plot\n",
    "plt.show()\n",
    "# Perform the Breusch-Pagan test on residuals.\n",
    "sm.stats.het_breuschpagan(res6, mlr6.model.exog)"
   ]
  },
  {
   "cell_type": "code",
   "execution_count": 608,
   "id": "cf61ba40-5632-4b27-9e9f-3696b0de69a9",
   "metadata": {},
   "outputs": [
    {
     "data": {
      "text/plain": [
       "2.2309826178705583"
      ]
     },
     "execution_count": 608,
     "metadata": {},
     "output_type": "execute_result"
    }
   ],
   "source": [
    "sm.stats.durbin_watson(res6)"
   ]
  },
  {
   "cell_type": "code",
   "execution_count": 610,
   "id": "d3671523-cdb7-49df-bac1-2a0e9589c5bb",
   "metadata": {},
   "outputs": [
    {
     "data": {
      "text/plain": [
       "9833.703431116828"
      ]
     },
     "execution_count": 610,
     "metadata": {},
     "output_type": "execute_result"
    }
   ],
   "source": [
    "# To extract condition number, type: modelname.condition_number\n",
    "mlr6.condition_number"
   ]
  },
  {
   "cell_type": "code",
   "execution_count": 612,
   "id": "8c95111f-5f23-43c0-a26b-97d5a1a28efe",
   "metadata": {},
   "outputs": [
    {
     "name": "stdout",
     "output_type": "stream",
     "text": [
      "Intercept 174.9728547509898\n",
      "affiliation[T.yes] 2.149318637127783\n",
      "region[T.NE] 2.004664778401371\n",
      "region[T.S] 1.9088144898012331\n",
      "region[T.W] 1.5631964510213894\n",
      "length 2.6115433271108706\n",
      "age 1.2577285173260702\n",
      "I(cultures ** 2) 1.5636785191705493\n",
      "xray 1.4568265159697935\n",
      "bed 51.095447390143356\n",
      "patient 47.564676839610144\n",
      "nurse 6.124815008484237\n",
      "facilities 3.3838649231125406\n"
     ]
    }
   ],
   "source": [
    "for i in range(13):\n",
    "    predictor = mlr6.model.exog_names[i]\n",
    "    Vif = vif(mlr6.model.exog,i)\n",
    "    print(predictor, Vif)"
   ]
  },
  {
   "cell_type": "code",
   "execution_count": 630,
   "id": "7013ef61-59ee-4641-a35f-00e1585cff81",
   "metadata": {},
   "outputs": [
    {
     "data": {
      "text/html": [
       "<div>\n",
       "<style scoped>\n",
       "    .dataframe tbody tr th:only-of-type {\n",
       "        vertical-align: middle;\n",
       "    }\n",
       "\n",
       "    .dataframe tbody tr th {\n",
       "        vertical-align: top;\n",
       "    }\n",
       "\n",
       "    .dataframe thead th {\n",
       "        text-align: right;\n",
       "    }\n",
       "</style>\n",
       "<table border=\"1\" class=\"dataframe\">\n",
       "  <thead>\n",
       "    <tr style=\"text-align: right;\">\n",
       "      <th></th>\n",
       "      <th>mean</th>\n",
       "      <th>mean_se</th>\n",
       "      <th>mean_ci_lower</th>\n",
       "      <th>mean_ci_upper</th>\n",
       "      <th>obs_ci_lower</th>\n",
       "      <th>obs_ci_upper</th>\n",
       "    </tr>\n",
       "  </thead>\n",
       "  <tbody>\n",
       "    <tr>\n",
       "      <th>0</th>\n",
       "      <td>4.611689</td>\n",
       "      <td>0.603530</td>\n",
       "      <td>3.408283</td>\n",
       "      <td>5.815094</td>\n",
       "      <td>2.477480</td>\n",
       "      <td>6.745897</td>\n",
       "    </tr>\n",
       "    <tr>\n",
       "      <th>1</th>\n",
       "      <td>4.122211</td>\n",
       "      <td>0.277893</td>\n",
       "      <td>3.568109</td>\n",
       "      <td>4.676313</td>\n",
       "      <td>2.274593</td>\n",
       "      <td>5.969828</td>\n",
       "    </tr>\n",
       "    <tr>\n",
       "      <th>2</th>\n",
       "      <td>4.753507</td>\n",
       "      <td>0.409585</td>\n",
       "      <td>3.936818</td>\n",
       "      <td>5.570196</td>\n",
       "      <td>2.810921</td>\n",
       "      <td>6.696094</td>\n",
       "    </tr>\n",
       "    <tr>\n",
       "      <th>3</th>\n",
       "      <td>2.858337</td>\n",
       "      <td>0.429000</td>\n",
       "      <td>2.002936</td>\n",
       "      <td>3.713739</td>\n",
       "      <td>0.899161</td>\n",
       "      <td>4.817514</td>\n",
       "    </tr>\n",
       "    <tr>\n",
       "      <th>4</th>\n",
       "      <td>4.542249</td>\n",
       "      <td>0.692117</td>\n",
       "      <td>3.162206</td>\n",
       "      <td>5.922292</td>\n",
       "      <td>2.303682</td>\n",
       "      <td>6.780816</td>\n",
       "    </tr>\n",
       "    <tr>\n",
       "      <th>5</th>\n",
       "      <td>4.559984</td>\n",
       "      <td>0.486084</td>\n",
       "      <td>3.590760</td>\n",
       "      <td>5.529209</td>\n",
       "      <td>2.548503</td>\n",
       "      <td>6.571466</td>\n",
       "    </tr>\n",
       "    <tr>\n",
       "      <th>6</th>\n",
       "      <td>6.712377</td>\n",
       "      <td>0.513230</td>\n",
       "      <td>5.689026</td>\n",
       "      <td>7.735727</td>\n",
       "      <td>4.674263</td>\n",
       "      <td>8.750491</td>\n",
       "    </tr>\n",
       "    <tr>\n",
       "      <th>7</th>\n",
       "      <td>4.012861</td>\n",
       "      <td>0.309203</td>\n",
       "      <td>3.396329</td>\n",
       "      <td>4.629394</td>\n",
       "      <td>2.145571</td>\n",
       "      <td>5.880152</td>\n",
       "    </tr>\n",
       "    <tr>\n",
       "      <th>8</th>\n",
       "      <td>4.621091</td>\n",
       "      <td>0.474119</td>\n",
       "      <td>3.675724</td>\n",
       "      <td>5.566458</td>\n",
       "      <td>2.620996</td>\n",
       "      <td>6.621186</td>\n",
       "    </tr>\n",
       "    <tr>\n",
       "      <th>9</th>\n",
       "      <td>3.218140</td>\n",
       "      <td>0.263105</td>\n",
       "      <td>2.693524</td>\n",
       "      <td>3.742756</td>\n",
       "      <td>1.379150</td>\n",
       "      <td>5.057130</td>\n",
       "    </tr>\n",
       "    <tr>\n",
       "      <th>10</th>\n",
       "      <td>3.644473</td>\n",
       "      <td>0.243521</td>\n",
       "      <td>3.158905</td>\n",
       "      <td>4.130040</td>\n",
       "      <td>1.816239</td>\n",
       "      <td>5.472706</td>\n",
       "    </tr>\n",
       "    <tr>\n",
       "      <th>11</th>\n",
       "      <td>3.551407</td>\n",
       "      <td>0.531836</td>\n",
       "      <td>2.490957</td>\n",
       "      <td>4.611857</td>\n",
       "      <td>1.494415</td>\n",
       "      <td>5.608399</td>\n",
       "    </tr>\n",
       "    <tr>\n",
       "      <th>12</th>\n",
       "      <td>3.691110</td>\n",
       "      <td>0.313089</td>\n",
       "      <td>3.066828</td>\n",
       "      <td>4.315393</td>\n",
       "      <td>1.821247</td>\n",
       "      <td>5.560974</td>\n",
       "    </tr>\n",
       "    <tr>\n",
       "      <th>13</th>\n",
       "      <td>4.126635</td>\n",
       "      <td>0.298196</td>\n",
       "      <td>3.532050</td>\n",
       "      <td>4.721221</td>\n",
       "      <td>2.266476</td>\n",
       "      <td>5.986795</td>\n",
       "    </tr>\n",
       "    <tr>\n",
       "      <th>14</th>\n",
       "      <td>2.637094</td>\n",
       "      <td>0.310469</td>\n",
       "      <td>2.018035</td>\n",
       "      <td>3.256152</td>\n",
       "      <td>0.768968</td>\n",
       "      <td>4.505220</td>\n",
       "    </tr>\n",
       "    <tr>\n",
       "      <th>15</th>\n",
       "      <td>4.351323</td>\n",
       "      <td>0.262888</td>\n",
       "      <td>3.827138</td>\n",
       "      <td>4.875508</td>\n",
       "      <td>2.512456</td>\n",
       "      <td>6.190190</td>\n",
       "    </tr>\n",
       "    <tr>\n",
       "      <th>16</th>\n",
       "      <td>3.636256</td>\n",
       "      <td>0.243639</td>\n",
       "      <td>3.150454</td>\n",
       "      <td>4.122058</td>\n",
       "      <td>1.807960</td>\n",
       "      <td>5.464551</td>\n",
       "    </tr>\n",
       "    <tr>\n",
       "      <th>17</th>\n",
       "      <td>5.123951</td>\n",
       "      <td>0.605774</td>\n",
       "      <td>3.916072</td>\n",
       "      <td>6.331829</td>\n",
       "      <td>2.987217</td>\n",
       "      <td>7.260685</td>\n",
       "    </tr>\n",
       "    <tr>\n",
       "      <th>18</th>\n",
       "      <td>3.674362</td>\n",
       "      <td>0.246363</td>\n",
       "      <td>3.183129</td>\n",
       "      <td>4.165595</td>\n",
       "      <td>1.844616</td>\n",
       "      <td>5.504108</td>\n",
       "    </tr>\n",
       "    <tr>\n",
       "      <th>19</th>\n",
       "      <td>3.735722</td>\n",
       "      <td>0.192587</td>\n",
       "      <td>3.351715</td>\n",
       "      <td>4.119730</td>\n",
       "      <td>1.931803</td>\n",
       "      <td>5.539641</td>\n",
       "    </tr>\n",
       "    <tr>\n",
       "      <th>20</th>\n",
       "      <td>4.299824</td>\n",
       "      <td>0.240935</td>\n",
       "      <td>3.819414</td>\n",
       "      <td>4.780234</td>\n",
       "      <td>2.472954</td>\n",
       "      <td>6.126695</td>\n",
       "    </tr>\n",
       "    <tr>\n",
       "      <th>21</th>\n",
       "      <td>4.379685</td>\n",
       "      <td>0.477193</td>\n",
       "      <td>3.428189</td>\n",
       "      <td>5.331181</td>\n",
       "      <td>2.376685</td>\n",
       "      <td>6.382684</td>\n",
       "    </tr>\n",
       "    <tr>\n",
       "      <th>22</th>\n",
       "      <td>5.006368</td>\n",
       "      <td>0.436849</td>\n",
       "      <td>4.135316</td>\n",
       "      <td>5.877420</td>\n",
       "      <td>3.040308</td>\n",
       "      <td>6.972429</td>\n",
       "    </tr>\n",
       "    <tr>\n",
       "      <th>23</th>\n",
       "      <td>4.157534</td>\n",
       "      <td>0.287794</td>\n",
       "      <td>3.583689</td>\n",
       "      <td>4.731379</td>\n",
       "      <td>2.303900</td>\n",
       "      <td>6.011168</td>\n",
       "    </tr>\n",
       "    <tr>\n",
       "      <th>24</th>\n",
       "      <td>4.115132</td>\n",
       "      <td>0.282406</td>\n",
       "      <td>3.552031</td>\n",
       "      <td>4.678232</td>\n",
       "      <td>2.264795</td>\n",
       "      <td>5.965468</td>\n",
       "    </tr>\n",
       "    <tr>\n",
       "      <th>25</th>\n",
       "      <td>4.402968</td>\n",
       "      <td>0.226987</td>\n",
       "      <td>3.950368</td>\n",
       "      <td>4.855567</td>\n",
       "      <td>2.583213</td>\n",
       "      <td>6.222723</td>\n",
       "    </tr>\n",
       "    <tr>\n",
       "      <th>26</th>\n",
       "      <td>3.513088</td>\n",
       "      <td>0.512106</td>\n",
       "      <td>2.491977</td>\n",
       "      <td>4.534198</td>\n",
       "      <td>1.476098</td>\n",
       "      <td>5.550078</td>\n",
       "    </tr>\n",
       "    <tr>\n",
       "      <th>27</th>\n",
       "      <td>2.631862</td>\n",
       "      <td>0.343374</td>\n",
       "      <td>1.947193</td>\n",
       "      <td>3.316531</td>\n",
       "      <td>0.740981</td>\n",
       "      <td>4.522744</td>\n",
       "    </tr>\n",
       "    <tr>\n",
       "      <th>28</th>\n",
       "      <td>4.694826</td>\n",
       "      <td>0.513414</td>\n",
       "      <td>3.671108</td>\n",
       "      <td>5.718544</td>\n",
       "      <td>2.656528</td>\n",
       "      <td>6.733125</td>\n",
       "    </tr>\n",
       "  </tbody>\n",
       "</table>\n",
       "</div>"
      ],
      "text/plain": [
       "        mean   mean_se  mean_ci_lower  mean_ci_upper  obs_ci_lower  \\\n",
       "0   4.611689  0.603530       3.408283       5.815094      2.477480   \n",
       "1   4.122211  0.277893       3.568109       4.676313      2.274593   \n",
       "2   4.753507  0.409585       3.936818       5.570196      2.810921   \n",
       "3   2.858337  0.429000       2.002936       3.713739      0.899161   \n",
       "4   4.542249  0.692117       3.162206       5.922292      2.303682   \n",
       "5   4.559984  0.486084       3.590760       5.529209      2.548503   \n",
       "6   6.712377  0.513230       5.689026       7.735727      4.674263   \n",
       "7   4.012861  0.309203       3.396329       4.629394      2.145571   \n",
       "8   4.621091  0.474119       3.675724       5.566458      2.620996   \n",
       "9   3.218140  0.263105       2.693524       3.742756      1.379150   \n",
       "10  3.644473  0.243521       3.158905       4.130040      1.816239   \n",
       "11  3.551407  0.531836       2.490957       4.611857      1.494415   \n",
       "12  3.691110  0.313089       3.066828       4.315393      1.821247   \n",
       "13  4.126635  0.298196       3.532050       4.721221      2.266476   \n",
       "14  2.637094  0.310469       2.018035       3.256152      0.768968   \n",
       "15  4.351323  0.262888       3.827138       4.875508      2.512456   \n",
       "16  3.636256  0.243639       3.150454       4.122058      1.807960   \n",
       "17  5.123951  0.605774       3.916072       6.331829      2.987217   \n",
       "18  3.674362  0.246363       3.183129       4.165595      1.844616   \n",
       "19  3.735722  0.192587       3.351715       4.119730      1.931803   \n",
       "20  4.299824  0.240935       3.819414       4.780234      2.472954   \n",
       "21  4.379685  0.477193       3.428189       5.331181      2.376685   \n",
       "22  5.006368  0.436849       4.135316       5.877420      3.040308   \n",
       "23  4.157534  0.287794       3.583689       4.731379      2.303900   \n",
       "24  4.115132  0.282406       3.552031       4.678232      2.264795   \n",
       "25  4.402968  0.226987       3.950368       4.855567      2.583213   \n",
       "26  3.513088  0.512106       2.491977       4.534198      1.476098   \n",
       "27  2.631862  0.343374       1.947193       3.316531      0.740981   \n",
       "28  4.694826  0.513414       3.671108       5.718544      2.656528   \n",
       "\n",
       "    obs_ci_upper  \n",
       "0       6.745897  \n",
       "1       5.969828  \n",
       "2       6.696094  \n",
       "3       4.817514  \n",
       "4       6.780816  \n",
       "5       6.571466  \n",
       "6       8.750491  \n",
       "7       5.880152  \n",
       "8       6.621186  \n",
       "9       5.057130  \n",
       "10      5.472706  \n",
       "11      5.608399  \n",
       "12      5.560974  \n",
       "13      5.986795  \n",
       "14      4.505220  \n",
       "15      6.190190  \n",
       "16      5.464551  \n",
       "17      7.260685  \n",
       "18      5.504108  \n",
       "19      5.539641  \n",
       "20      6.126695  \n",
       "21      6.382684  \n",
       "22      6.972429  \n",
       "23      6.011168  \n",
       "24      5.965468  \n",
       "25      6.222723  \n",
       "26      5.550078  \n",
       "27      4.522744  \n",
       "28      6.733125  "
      ]
     },
     "execution_count": 630,
     "metadata": {},
     "output_type": "execute_result"
    }
   ],
   "source": [
    "mlr6.get_prediction(test_df4).summary_frame()"
   ]
  },
  {
   "cell_type": "code",
   "execution_count": 632,
   "id": "1ea9ea41-46d7-4cc7-ae71-d5993e4c0a95",
   "metadata": {},
   "outputs": [
    {
     "name": "stdout",
     "output_type": "stream",
     "text": [
      "\n",
      " Transform Test R² = 0.62881569481155\n",
      "\n",
      " Transform Adjusted R² = 0.5660803192867415\n",
      "\n",
      " Transform MSPE = 0.9682224344774677\n"
     ]
    }
   ],
   "source": [
    "test4_r2 = mlr6.rsquared\n",
    "print('\\n Transform Test R² =',test4_r2)\n",
    "adjusted4_r2 = mlr6.rsquared_adj\n",
    "print('\\n Transform Adjusted R² =',adjusted4_r2)\n",
    "mspe4 = mean_squared_error(test_df4['risk'], test_df4['predicted_risk']) \n",
    "print('\\n Transform MSPE =',mspe4)"
   ]
  }
 ],
 "metadata": {
  "kernelspec": {
   "display_name": "Python 3 (ipykernel)",
   "language": "python",
   "name": "python3"
  },
  "language_info": {
   "codemirror_mode": {
    "name": "ipython",
    "version": 3
   },
   "file_extension": ".py",
   "mimetype": "text/x-python",
   "name": "python",
   "nbconvert_exporter": "python",
   "pygments_lexer": "ipython3",
   "version": "3.12.7"
  }
 },
 "nbformat": 4,
 "nbformat_minor": 5
}
